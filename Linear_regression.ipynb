{
 "cells": [
  {
   "cell_type": "code",
   "execution_count": 106,
   "metadata": {},
   "outputs": [],
   "source": [
    "import pandas as pd\n",
    "import numpy as np\n",
    "\n",
    "import matplotlib.pyplot as plt\n",
    "import seaborn as sns\n",
    "\n",
    "from scipy.stats.stats import pearsonr   \n",
    "from sklearn.linear_model import LinearRegression\n",
    "\n",
    "import statsmodels.api as sm\n",
    "import statsmodels.formula.api as ols"
   ]
  },
  {
   "cell_type": "markdown",
   "metadata": {
    "id": "LFB4LwVRhXnK"
   },
   "source": [
    "## Считываем данные"
   ]
  },
  {
   "cell_type": "code",
   "execution_count": 107,
   "metadata": {
    "id": "YXhzBaA9tabD"
   },
   "outputs": [],
   "source": [
    "df = pd.read_csv('income_dataset.csv')"
   ]
  },
  {
   "cell_type": "code",
   "execution_count": 108,
   "metadata": {
    "colab": {
     "base_uri": "https://localhost:8080/",
     "height": 206
    },
    "id": "W7GMGzdxtl0s",
    "outputId": "ec669384-2803-4f37-fa62-1a06d162ad7d"
   },
   "outputs": [
    {
     "data": {
      "text/html": [
       "<div>\n",
       "<style scoped>\n",
       "    .dataframe tbody tr th:only-of-type {\n",
       "        vertical-align: middle;\n",
       "    }\n",
       "\n",
       "    .dataframe tbody tr th {\n",
       "        vertical-align: top;\n",
       "    }\n",
       "\n",
       "    .dataframe thead th {\n",
       "        text-align: right;\n",
       "    }\n",
       "</style>\n",
       "<table border=\"1\" class=\"dataframe\">\n",
       "  <thead>\n",
       "    <tr style=\"text-align: right;\">\n",
       "      <th></th>\n",
       "      <th>monthly_income_amt</th>\n",
       "      <th>education_level_cd</th>\n",
       "      <th>gender_cd</th>\n",
       "      <th>age</th>\n",
       "      <th>marital_status_cd</th>\n",
       "      <th>job_position_cd</th>\n",
       "      <th>car_own_flg</th>\n",
       "      <th>work_exp_cd</th>\n",
       "      <th>accnt_cnt</th>\n",
       "      <th>credit_amt_max</th>\n",
       "      <th>credit_card_sum</th>\n",
       "      <th>accnt_open_due_cnt</th>\n",
       "      <th>wrst_delqbalance_max</th>\n",
       "      <th>cred_av</th>\n",
       "    </tr>\n",
       "  </thead>\n",
       "  <tbody>\n",
       "    <tr>\n",
       "      <th>0</th>\n",
       "      <td>30.0</td>\n",
       "      <td>UGR</td>\n",
       "      <td>F</td>\n",
       "      <td>21</td>\n",
       "      <td>UNM</td>\n",
       "      <td>WRK</td>\n",
       "      <td>0</td>\n",
       "      <td>0</td>\n",
       "      <td>1.0</td>\n",
       "      <td>62.43</td>\n",
       "      <td>0.00</td>\n",
       "      <td>0.0</td>\n",
       "      <td>0.00</td>\n",
       "      <td>62.430</td>\n",
       "    </tr>\n",
       "    <tr>\n",
       "      <th>1</th>\n",
       "      <td>48.0</td>\n",
       "      <td>SCH</td>\n",
       "      <td>M</td>\n",
       "      <td>36</td>\n",
       "      <td>UNM</td>\n",
       "      <td>BIS</td>\n",
       "      <td>0</td>\n",
       "      <td>0</td>\n",
       "      <td>9.0</td>\n",
       "      <td>128.00</td>\n",
       "      <td>22.08</td>\n",
       "      <td>0.0</td>\n",
       "      <td>0.00</td>\n",
       "      <td>33.098</td>\n",
       "    </tr>\n",
       "    <tr>\n",
       "      <th>2</th>\n",
       "      <td>30.0</td>\n",
       "      <td>GRD</td>\n",
       "      <td>M</td>\n",
       "      <td>37</td>\n",
       "      <td>MAR</td>\n",
       "      <td>SPC</td>\n",
       "      <td>0</td>\n",
       "      <td>1</td>\n",
       "      <td>28.0</td>\n",
       "      <td>333.00</td>\n",
       "      <td>153.00</td>\n",
       "      <td>0.0</td>\n",
       "      <td>8.86</td>\n",
       "      <td>75.387</td>\n",
       "    </tr>\n",
       "    <tr>\n",
       "      <th>3</th>\n",
       "      <td>11.0</td>\n",
       "      <td>SCH</td>\n",
       "      <td>F</td>\n",
       "      <td>66</td>\n",
       "      <td>CIV</td>\n",
       "      <td>PNA</td>\n",
       "      <td>0</td>\n",
       "      <td>0</td>\n",
       "      <td>2.0</td>\n",
       "      <td>52.90</td>\n",
       "      <td>0.00</td>\n",
       "      <td>0.0</td>\n",
       "      <td>0.00</td>\n",
       "      <td>51.450</td>\n",
       "    </tr>\n",
       "    <tr>\n",
       "      <th>4</th>\n",
       "      <td>30.0</td>\n",
       "      <td>GRD</td>\n",
       "      <td>F</td>\n",
       "      <td>46</td>\n",
       "      <td>UNM</td>\n",
       "      <td>UMN</td>\n",
       "      <td>0</td>\n",
       "      <td>2</td>\n",
       "      <td>7.0</td>\n",
       "      <td>166.50</td>\n",
       "      <td>210.50</td>\n",
       "      <td>0.0</td>\n",
       "      <td>0.00</td>\n",
       "      <td>54.583</td>\n",
       "    </tr>\n",
       "  </tbody>\n",
       "</table>\n",
       "</div>"
      ],
      "text/plain": [
       "   monthly_income_amt education_level_cd gender_cd  age marital_status_cd  \\\n",
       "0                30.0                UGR         F   21               UNM   \n",
       "1                48.0                SCH         M   36               UNM   \n",
       "2                30.0                GRD         M   37               MAR   \n",
       "3                11.0                SCH         F   66               CIV   \n",
       "4                30.0                GRD         F   46               UNM   \n",
       "\n",
       "  job_position_cd  car_own_flg  work_exp_cd  accnt_cnt  credit_amt_max  \\\n",
       "0             WRK            0            0        1.0           62.43   \n",
       "1             BIS            0            0        9.0          128.00   \n",
       "2             SPC            0            1       28.0          333.00   \n",
       "3             PNA            0            0        2.0           52.90   \n",
       "4             UMN            0            2        7.0          166.50   \n",
       "\n",
       "   credit_card_sum  accnt_open_due_cnt  wrst_delqbalance_max  cred_av  \n",
       "0             0.00                 0.0                  0.00   62.430  \n",
       "1            22.08                 0.0                  0.00   33.098  \n",
       "2           153.00                 0.0                  8.86   75.387  \n",
       "3             0.00                 0.0                  0.00   51.450  \n",
       "4           210.50                 0.0                  0.00   54.583  "
      ]
     },
     "execution_count": 108,
     "metadata": {},
     "output_type": "execute_result"
    }
   ],
   "source": [
    "df.head()"
   ]
  },
  {
   "cell_type": "markdown",
   "metadata": {
    "id": "rgg4djeamNtY"
   },
   "source": [
    "## Задание\n",
    "\n",
    "Усилить модель линейной регрессии, построенную на лекции, за счет добавления новых переменных. \n",
    "\n",
    "Целевая переменная - месячный доход monthly_income_amt."
   ]
  },
  {
   "cell_type": "code",
   "execution_count": 109,
   "metadata": {
    "id": "i1GwVyfxWpiu"
   },
   "outputs": [],
   "source": [
    "test = df[10000:]\n",
    "train = df[:10000]"
   ]
  },
  {
   "cell_type": "markdown",
   "metadata": {
    "id": "f19jity0i2PF"
   },
   "source": [
    "###  Количественные признаки\n",
    "Проверим три количественных признака, которые не были затронуты в лекции\n",
    "* credit_card_sum\n",
    "* wrst_delqbalance_max\n",
    "* cred_av"
   ]
  },
  {
   "cell_type": "markdown",
   "metadata": {
    "id": "oKb1yc2_WBhR"
   },
   "source": [
    "Убираем выбросы"
   ]
  },
  {
   "cell_type": "code",
   "execution_count": 110,
   "metadata": {
    "colab": {
     "base_uri": "https://localhost:8080/"
    },
    "id": "o2laQl5y5_tm",
    "outputId": "ca1b8d73-3a4a-4498-9da0-250380da2714"
   },
   "outputs": [],
   "source": [
    "train = train.assign(credit_card_sum = train['credit_card_sum'].clip(1, np.percentile(train['credit_card_sum'], 99)),\n",
    "                     wrst_delqbalance_max = train['wrst_delqbalance_max'].clip(1, np.percentile(train['wrst_delqbalance_max'], 99)),\n",
    "                     cred_av = train['cred_av'].clip(1, np.percentile(train['cred_av'], 99)),\n",
    "                     monthly_income_amt = train['monthly_income_amt'].clip(1, np.percentile(train['monthly_income_amt'], 99)),\n",
    "                    )"
   ]
  },
  {
   "cell_type": "code",
   "execution_count": 111,
   "metadata": {},
   "outputs": [
    {
     "data": {
      "text/html": [
       "<div>\n",
       "<style scoped>\n",
       "    .dataframe tbody tr th:only-of-type {\n",
       "        vertical-align: middle;\n",
       "    }\n",
       "\n",
       "    .dataframe tbody tr th {\n",
       "        vertical-align: top;\n",
       "    }\n",
       "\n",
       "    .dataframe thead th {\n",
       "        text-align: right;\n",
       "    }\n",
       "</style>\n",
       "<table border=\"1\" class=\"dataframe\">\n",
       "  <thead>\n",
       "    <tr style=\"text-align: right;\">\n",
       "      <th></th>\n",
       "      <th>monthly_income_amt</th>\n",
       "      <th>age</th>\n",
       "      <th>car_own_flg</th>\n",
       "      <th>work_exp_cd</th>\n",
       "      <th>accnt_cnt</th>\n",
       "      <th>credit_amt_max</th>\n",
       "      <th>credit_card_sum</th>\n",
       "      <th>accnt_open_due_cnt</th>\n",
       "      <th>wrst_delqbalance_max</th>\n",
       "      <th>cred_av</th>\n",
       "    </tr>\n",
       "  </thead>\n",
       "  <tbody>\n",
       "    <tr>\n",
       "      <th>count</th>\n",
       "      <td>10000.000000</td>\n",
       "      <td>10000.000000</td>\n",
       "      <td>10000.000000</td>\n",
       "      <td>10000.000000</td>\n",
       "      <td>10000.000000</td>\n",
       "      <td>10000.000000</td>\n",
       "      <td>10000.000000</td>\n",
       "      <td>10000.000000</td>\n",
       "      <td>10000.000000</td>\n",
       "      <td>10000.000000</td>\n",
       "    </tr>\n",
       "    <tr>\n",
       "      <th>mean</th>\n",
       "      <td>37.390136</td>\n",
       "      <td>37.415300</td>\n",
       "      <td>0.133900</td>\n",
       "      <td>0.626600</td>\n",
       "      <td>6.870600</td>\n",
       "      <td>353.170971</td>\n",
       "      <td>37.414012</td>\n",
       "      <td>0.117300</td>\n",
       "      <td>11.046667</td>\n",
       "      <td>107.628773</td>\n",
       "    </tr>\n",
       "    <tr>\n",
       "      <th>std</th>\n",
       "      <td>24.319135</td>\n",
       "      <td>11.681022</td>\n",
       "      <td>0.340562</td>\n",
       "      <td>0.783986</td>\n",
       "      <td>7.428901</td>\n",
       "      <td>1802.153169</td>\n",
       "      <td>71.909099</td>\n",
       "      <td>0.354617</td>\n",
       "      <td>31.155866</td>\n",
       "      <td>192.204430</td>\n",
       "    </tr>\n",
       "    <tr>\n",
       "      <th>min</th>\n",
       "      <td>1.000000</td>\n",
       "      <td>18.000000</td>\n",
       "      <td>0.000000</td>\n",
       "      <td>0.000000</td>\n",
       "      <td>1.000000</td>\n",
       "      <td>0.000000</td>\n",
       "      <td>1.000000</td>\n",
       "      <td>0.000000</td>\n",
       "      <td>1.000000</td>\n",
       "      <td>2.500000</td>\n",
       "    </tr>\n",
       "    <tr>\n",
       "      <th>25%</th>\n",
       "      <td>22.500000</td>\n",
       "      <td>28.000000</td>\n",
       "      <td>0.000000</td>\n",
       "      <td>0.000000</td>\n",
       "      <td>2.000000</td>\n",
       "      <td>30.000000</td>\n",
       "      <td>1.000000</td>\n",
       "      <td>0.000000</td>\n",
       "      <td>1.000000</td>\n",
       "      <td>18.636500</td>\n",
       "    </tr>\n",
       "    <tr>\n",
       "      <th>50%</th>\n",
       "      <td>30.000000</td>\n",
       "      <td>35.000000</td>\n",
       "      <td>0.000000</td>\n",
       "      <td>0.000000</td>\n",
       "      <td>5.000000</td>\n",
       "      <td>95.025000</td>\n",
       "      <td>1.000000</td>\n",
       "      <td>0.000000</td>\n",
       "      <td>1.786000</td>\n",
       "      <td>41.360000</td>\n",
       "    </tr>\n",
       "    <tr>\n",
       "      <th>75%</th>\n",
       "      <td>45.000000</td>\n",
       "      <td>45.000000</td>\n",
       "      <td>0.000000</td>\n",
       "      <td>1.000000</td>\n",
       "      <td>9.000000</td>\n",
       "      <td>315.407500</td>\n",
       "      <td>43.000000</td>\n",
       "      <td>0.000000</td>\n",
       "      <td>6.807500</td>\n",
       "      <td>105.491750</td>\n",
       "    </tr>\n",
       "    <tr>\n",
       "      <th>max</th>\n",
       "      <td>150.000000</td>\n",
       "      <td>72.000000</td>\n",
       "      <td>1.000000</td>\n",
       "      <td>2.000000</td>\n",
       "      <td>136.000000</td>\n",
       "      <td>115753.320000</td>\n",
       "      <td>408.901000</td>\n",
       "      <td>4.000000</td>\n",
       "      <td>239.693760</td>\n",
       "      <td>1296.654640</td>\n",
       "    </tr>\n",
       "  </tbody>\n",
       "</table>\n",
       "</div>"
      ],
      "text/plain": [
       "       monthly_income_amt           age   car_own_flg   work_exp_cd  \\\n",
       "count        10000.000000  10000.000000  10000.000000  10000.000000   \n",
       "mean            37.390136     37.415300      0.133900      0.626600   \n",
       "std             24.319135     11.681022      0.340562      0.783986   \n",
       "min              1.000000     18.000000      0.000000      0.000000   \n",
       "25%             22.500000     28.000000      0.000000      0.000000   \n",
       "50%             30.000000     35.000000      0.000000      0.000000   \n",
       "75%             45.000000     45.000000      0.000000      1.000000   \n",
       "max            150.000000     72.000000      1.000000      2.000000   \n",
       "\n",
       "          accnt_cnt  credit_amt_max  credit_card_sum  accnt_open_due_cnt  \\\n",
       "count  10000.000000    10000.000000     10000.000000        10000.000000   \n",
       "mean       6.870600      353.170971        37.414012            0.117300   \n",
       "std        7.428901     1802.153169        71.909099            0.354617   \n",
       "min        1.000000        0.000000         1.000000            0.000000   \n",
       "25%        2.000000       30.000000         1.000000            0.000000   \n",
       "50%        5.000000       95.025000         1.000000            0.000000   \n",
       "75%        9.000000      315.407500        43.000000            0.000000   \n",
       "max      136.000000   115753.320000       408.901000            4.000000   \n",
       "\n",
       "       wrst_delqbalance_max       cred_av  \n",
       "count          10000.000000  10000.000000  \n",
       "mean              11.046667    107.628773  \n",
       "std               31.155866    192.204430  \n",
       "min                1.000000      2.500000  \n",
       "25%                1.000000     18.636500  \n",
       "50%                1.786000     41.360000  \n",
       "75%                6.807500    105.491750  \n",
       "max              239.693760   1296.654640  "
      ]
     },
     "execution_count": 111,
     "metadata": {},
     "output_type": "execute_result"
    }
   ],
   "source": [
    "train.describe()"
   ]
  },
  {
   "cell_type": "markdown",
   "metadata": {
    "id": "R338b-jWjPqE"
   },
   "source": [
    "Проверяем линейность зависимости целевой переменной от credit_card_sum путем отрисовки простой регрессии "
   ]
  },
  {
   "cell_type": "code",
   "execution_count": 112,
   "metadata": {
    "id": "2-5m4RMX3MJO"
   },
   "outputs": [],
   "source": [
    "def check_if_linear(data, feature_name, target_name):\n",
    "    #разбивка данных по бакетам для лучшей визуализации\n",
    "    #не отражается на итоговом датасете\n",
    "    data = data[[feature_name, target_name]].copy()\n",
    "    data['bucket'] = np.floor(data[feature_name].rank(pct = True) * 100)\n",
    "    data = data.groupby('bucket').mean()\n",
    "    \n",
    "    #проверка простой линейной регрессии с одной переменной\n",
    "    regr_check = LinearRegression()\n",
    "    regr_check.fit(data[feature_name].to_numpy().reshape(-1,1),data[target_name])\n",
    "    pred = regr_check.predict(data[feature_name].to_numpy().reshape(-1,1))\n",
    "    plt.plot(data[feature_name], pred)\n",
    "    plt.grid()\n",
    "    plt.scatter(data[feature_name], data[target_name])\n",
    "    plt.title('Проверка линейности зависимости {} и {} '.format(feature_name, target_name))\n",
    "    plt.xlabel(feature_name)\n",
    "    plt.ylabel(target_name)\n"
   ]
  },
  {
   "cell_type": "code",
   "execution_count": 113,
   "metadata": {
    "colab": {
     "base_uri": "https://localhost:8080/",
     "height": 296
    },
    "id": "u3jOXVjU7kFu",
    "outputId": "a24ed1cf-ac30-4c97-851b-bf5bf1145040"
   },
   "outputs": [
    {
     "data": {
      "image/png": "[encoded data removed]",
      "text/plain": [
       "<Figure size 432x288 with 1 Axes>"
      ]
     },
     "metadata": {
      "needs_background": "light"
     },
     "output_type": "display_data"
    }
   ],
   "source": [
    "check_if_linear(train, 'credit_card_sum', 'monthly_income_amt')"
   ]
  },
  {
   "cell_type": "markdown",
   "metadata": {
    "id": "G2Z8IjvdZ-V4"
   },
   "source": [
    "Признак credit_card_sum и целевая переменная связаны линейной зависимостью, дополнительные преобразования не требуются "
   ]
  },
  {
   "cell_type": "markdown",
   "metadata": {
    "id": "GjGwG_iDlsSM"
   },
   "source": [
    "Проверка wrst_delqbalance_max на линейность"
   ]
  },
  {
   "cell_type": "code",
   "execution_count": 114,
   "metadata": {},
   "outputs": [
    {
     "data": {
      "image/png": "[encoded data removed]",
      "text/plain": [
       "<Figure size 432x288 with 1 Axes>"
      ]
     },
     "metadata": {
      "needs_background": "light"
     },
     "output_type": "display_data"
    }
   ],
   "source": [
    "check_if_linear(train, 'wrst_delqbalance_max', 'monthly_income_amt')"
   ]
  },
  {
   "cell_type": "markdown",
   "metadata": {},
   "source": [
    "Данную зависимость попробуем сделать более линейной, применив логарифм"
   ]
  },
  {
   "cell_type": "code",
   "execution_count": 115,
   "metadata": {
    "colab": {
     "base_uri": "https://localhost:8080/"
    },
    "id": "DEroQmIx-rAV",
    "outputId": "b2460ef4-8086-4197-ce8d-c112c3e336e9"
   },
   "outputs": [
    {
     "data": {
      "image/png": "[encoded data removed]",
      "text/plain": [
       "<Figure size 432x288 with 1 Axes>"
      ]
     },
     "metadata": {
      "needs_background": "light"
     },
     "output_type": "display_data"
    }
   ],
   "source": [
    "train = train.assign(wrst_delqbalance_max = np.log(train['wrst_delqbalance_max']))\n",
    "check_if_linear(train, 'wrst_delqbalance_max', 'monthly_income_amt')"
   ]
  },
  {
   "cell_type": "markdown",
   "metadata": {
    "id": "3yhHd158okxY"
   },
   "source": [
    "После преобразований линейная зависимость прослеживается лучше"
   ]
  },
  {
   "cell_type": "markdown",
   "metadata": {
    "id": "D1GTqLqfl6C1"
   },
   "source": [
    "Проверяем признак cred_av"
   ]
  },
  {
   "cell_type": "code",
   "execution_count": 116,
   "metadata": {},
   "outputs": [
    {
     "data": {
      "image/png": "[encoded data removed]",
      "text/plain": [
       "<Figure size 432x288 with 1 Axes>"
      ]
     },
     "metadata": {
      "needs_background": "light"
     },
     "output_type": "display_data"
    }
   ],
   "source": [
    "check_if_linear(train, 'cred_av', 'monthly_income_amt')"
   ]
  },
  {
   "cell_type": "markdown",
   "metadata": {},
   "source": [
    "Видно явную нелинейную связь - можем разделить этот признак на два, для которых наблюдается линейность. "
   ]
  },
  {
   "cell_type": "code",
   "execution_count": 117,
   "metadata": {
    "colab": {
     "base_uri": "https://localhost:8080/",
     "height": 797
    },
    "id": "ctufaZP8AoKO",
    "outputId": "f43701cf-a21d-4114-c5e4-ecb0cd795e0a"
   },
   "outputs": [
    {
     "data": {
      "image/png": "[encoded data removed]",
      "text/plain": [
       "<Figure size 432x288 with 1 Axes>"
      ]
     },
     "metadata": {
      "needs_background": "light"
     },
     "output_type": "display_data"
    },
    {
     "data": {
      "image/png": "[encoded data removed]",
      "text/plain": [
       "<Figure size 432x288 with 1 Axes>"
      ]
     },
     "metadata": {
      "needs_background": "light"
     },
     "output_type": "display_data"
    }
   ],
   "source": [
    "check_if_linear(train[train.cred_av < 400], 'cred_av', 'monthly_income_amt')\n",
    "plt.figure()\n",
    "check_if_linear(train[train.cred_av >= 400], 'cred_av', 'monthly_income_amt')\n",
    "train['cred_av_low'] = np.where(train['cred_av'] < 400, train['cred_av'], 400)\n",
    "train['cred_av_high'] = np.where(train['cred_av'] >= 400, train['cred_av'], 400)\n",
    "#присвоили пограничные значения, получили два новых признака"
   ]
  },
  {
   "cell_type": "markdown",
   "metadata": {
    "id": "_if1tk2um0zk"
   },
   "source": [
    "Для трех рассмотренных количественных признаков проверим гомоскедастичность"
   ]
  },
  {
   "cell_type": "code",
   "execution_count": 118,
   "metadata": {
    "colab": {
     "base_uri": "https://localhost:8080/",
     "height": 55
    },
    "id": "C2A8PXd7C46V",
    "outputId": "8c7191f6-7118-4d1b-c024-335768245f8b"
   },
   "outputs": [],
   "source": [
    "def check_homoscedacity(data, feature_name, target_name):\n",
    "    data = data[[feature_name, target_name]].copy()\n",
    "    data['bucket'] = np.floor(data[feature_name].rank(pct = True) * 500)\n",
    "    data = data.groupby('bucket').mean()\n",
    "\n",
    "    check_reg = LinearRegression()\n",
    "    check_reg.fit(data[feature_name].to_numpy().reshape(-1,1),data[target_name])\n",
    "    pred = check_reg.predict(data[feature_name].to_numpy().reshape(-1,1))\n",
    "\n",
    "    plt.scatter(pred, data[target_name] - pred)\n",
    "    plt.grid()\n",
    "    plt.title('Проверка гомоскедастичности признака ' + feature_name)\n",
    "    plt.xlabel('predicted')\n",
    "    plt.ylabel('residuals')\n"
   ]
  },
  {
   "cell_type": "code",
   "execution_count": 119,
   "metadata": {
    "colab": {
     "base_uri": "https://localhost:8080/",
     "height": 1000
    },
    "id": "Fx5uTN04Dfw9",
    "outputId": "bf4d449a-e7b8-43cb-fee8-098adf770e37"
   },
   "outputs": [
    {
     "data": {
      "image/png": "[encoded data removed]",
      "text/plain": [
       "<Figure size 432x288 with 1 Axes>"
      ]
     },
     "metadata": {
      "needs_background": "light"
     },
     "output_type": "display_data"
    },
    {
     "data": {
      "image/png": "[encoded data removed]",
      "text/plain": [
       "<Figure size 432x288 with 1 Axes>"
      ]
     },
     "metadata": {
      "needs_background": "light"
     },
     "output_type": "display_data"
    },
    {
     "data": {
      "image/png": "[encoded data removed]",
      "text/plain": [
       "<Figure size 432x288 with 1 Axes>"
      ]
     },
     "metadata": {
      "needs_background": "light"
     },
     "output_type": "display_data"
    },
    {
     "data": {
      "image/png": "[encoded data removed]",
      "text/plain": [
       "<Figure size 432x288 with 1 Axes>"
      ]
     },
     "metadata": {
      "needs_background": "light"
     },
     "output_type": "display_data"
    }
   ],
   "source": [
    "check_homoscedacity(train, 'credit_card_sum', 'monthly_income_amt')\n",
    "plt.figure()\n",
    "check_homoscedacity(train, 'wrst_delqbalance_max', 'monthly_income_amt')\n",
    "plt.figure()\n",
    "check_homoscedacity(train, 'cred_av_low', 'monthly_income_amt')\n",
    "plt.figure()\n",
    "check_homoscedacity(train, 'cred_av_high', 'monthly_income_amt')"
   ]
  },
  {
   "cell_type": "markdown",
   "metadata": {
    "id": "oDSCahYuokTv"
   },
   "source": [
    "Для рассмотренных признаков в целом наблюдается постоянство остатков"
   ]
  },
  {
   "cell_type": "markdown",
   "metadata": {
    "id": "nP_2rClersTO"
   },
   "source": [
    "Проверка на нормальность: коэффициенты линейной регрессии подбираются на трех количественных признаках, смотрим на распределение её ошибок\n"
   ]
  },
  {
   "cell_type": "code",
   "execution_count": 120,
   "metadata": {
    "id": "prtRkE3TrvDc"
   },
   "outputs": [],
   "source": [
    "features = ['credit_card_sum','cred_av_low', 'cred_av_high','wrst_delqbalance_max']"
   ]
  },
  {
   "cell_type": "code",
   "execution_count": 121,
   "metadata": {
    "colab": {
     "base_uri": "https://localhost:8080/",
     "height": 295
    },
    "id": "MUpafMcJr1Dk",
    "outputId": "5b485cca-b358-4513-fe5f-9f78e6bcaa35"
   },
   "outputs": [
    {
     "data": {
      "image/png": "[encoded data removed]",
      "text/plain": [
       "<Figure size 432x288 with 1 Axes>"
      ]
     },
     "metadata": {
      "needs_background": "light"
     },
     "output_type": "display_data"
    }
   ],
   "source": [
    "model = LinearRegression()\n",
    "model.fit(np.array(train[features]),train['monthly_income_amt'])\n",
    "resids = train['monthly_income_amt'] - (model.predict(train[features]))\n",
    "plt.hist(resids, bins='auto')[2]\n",
    "plt.xlabel('отклонение')\n",
    "plt.ylabel('количество наблюдений')\n",
    "plt.title('Распределение остатков')\n",
    "plt.axis([-100, 100, 0, 600])\n",
    "plt.grid(True)\n",
    "plt.show()"
   ]
  },
  {
   "cell_type": "markdown",
   "metadata": {
    "id": "18u2ZrN5sT6d"
   },
   "source": [
    "Распределение ошибок для модели, построенной по данным трем признакам, похоже на нормальное"
   ]
  },
  {
   "cell_type": "markdown",
   "metadata": {
    "id": "ZUG_Ur0HsfUs"
   },
   "source": [
    "Проверка признаков на скоррелированность"
   ]
  },
  {
   "cell_type": "code",
   "execution_count": 122,
   "metadata": {
    "colab": {
     "base_uri": "https://localhost:8080/",
     "height": 373
    },
    "id": "qB6-iiossjMr",
    "outputId": "2b1a4ab2-f25a-4bbb-c50c-d6b303bbbcfa"
   },
   "outputs": [
    {
     "data": {
      "image/png": "[encoded data removed]",
      "text/plain": [
       "<Figure size 432x288 with 2 Axes>"
      ]
     },
     "metadata": {
      "needs_background": "light"
     },
     "output_type": "display_data"
    }
   ],
   "source": [
    "pcorr = pd.DataFrame \n",
    "pcorr = []\n",
    "for f1 in features:\n",
    "    for f2 in features:\n",
    "        pcorr.append((f1,f2,pearsonr(train[f1],train[f2])))\n",
    "        \n",
    "cor = train.loc[:,features].corr(method='pearson')\n",
    "cm=plt.cm.viridis\n",
    "sns.heatmap(cor,cmap=cm,linewidths=0.1,linecolor='white',annot=True)\n",
    "plt.show()"
   ]
  },
  {
   "cell_type": "markdown",
   "metadata": {
    "id": "acZ9BQuBs2aE"
   },
   "source": [
    "Для данных признаков значения коэффициентов корреляции низкие (ниже 0.4-0.5, исключая cred_av_low и cred_av_high), все рассмотренные признаки можно оставить в модели. "
   ]
  },
  {
   "cell_type": "markdown",
   "metadata": {
    "id": "9IMVZJyHtKtl"
   },
   "source": [
    "Таким образом, признаки \n",
    "* credit_card_sum\n",
    "* cred_av\n",
    "* wrst_delqbalance_max  \n",
    "\n",
    "подготовлены и могут быть применены для построения линейной модели регрессии."
   ]
  },
  {
   "cell_type": "markdown",
   "metadata": {
    "id": "Ukh6DdDwta40"
   },
   "source": [
    "### Категориальные признаки\n",
    "Для применения категориальных признаков в модели линейной регресии необходимо выполнить кодирование, преобразовав таким образом категориальные признаки в количественные. Здесь можно рассмотреть label encoding и one-hot encoding. Предпочтительнее выбирать one-hot encoding, т.к. в случае label encoding уникальным значениям признака \"присваиваются\" порядковые номера, из-за этого одни значения будут больше других, что может внести неточность в модель"
   ]
  },
  {
   "cell_type": "markdown",
   "metadata": {
    "id": "oFQd0_uyqk0e"
   },
   "source": [
    "Здесь и далее для удобства проверки мы будем создавать новый датафрейм для каждого кодированного признака. Для one-hot encoding будем пользоваться методом get_dummies из библиотеки pandas"
   ]
  },
  {
   "cell_type": "markdown",
   "metadata": {
    "id": "sgBhsPIpq0Ft"
   },
   "source": [
    "Рассмотрим work_exp_cd"
   ]
  },
  {
   "cell_type": "code",
   "execution_count": 123,
   "metadata": {
    "id": "ym8lW0yJZv92"
   },
   "outputs": [],
   "source": [
    "target = train.monthly_income_amt"
   ]
  },
  {
   "cell_type": "code",
   "execution_count": 124,
   "metadata": {
    "id": "LsMU_dJbqiwO"
   },
   "outputs": [],
   "source": [
    "dummy_train = pd.get_dummies(train, prefix = ['work_exp_cd', 'marital_status_cd', 'job_position_cd'], columns=['work_exp_cd', 'marital_status_cd', 'job_position_cd'])"
   ]
  },
  {
   "cell_type": "markdown",
   "metadata": {
    "id": "dMem3UfGvAAn"
   },
   "source": [
    "Обучим модель линейной регрессии на данном кодированном признаке и посмотрим на значение r_2"
   ]
  },
  {
   "cell_type": "code",
   "execution_count": 125,
   "metadata": {
    "colab": {
     "base_uri": "https://localhost:8080/"
    },
    "id": "TDTaq4TUu_c_",
    "outputId": "9683a832-5480-46cc-c423-2a7712e2b9c8"
   },
   "outputs": [
    {
     "name": "stdout",
     "output_type": "stream",
     "text": [
      "значение r_2 = 0.0025879981364990146\n"
     ]
    }
   ],
   "source": [
    "X = dummy_train[['work_exp_cd_0', 'work_exp_cd_1', 'work_exp_cd_2']]\n",
    "reg = LinearRegression().fit(X, target)\n",
    "print('значение r_2 =', reg.score(X, target))"
   ]
  },
  {
   "cell_type": "markdown",
   "metadata": {
    "id": "xW5VnlvWvgpY"
   },
   "source": [
    "Значение r_2 здесь получается низкое, сложно сказать о наличии линейной зависимости между work_exp_cd и целевой переменной"
   ]
  },
  {
   "cell_type": "markdown",
   "metadata": {
    "id": "sRbvUnwrxnYp"
   },
   "source": [
    "Аналогичным образом рассмотрим признак marital_status_cd"
   ]
  },
  {
   "cell_type": "code",
   "execution_count": 126,
   "metadata": {
    "colab": {
     "base_uri": "https://localhost:8080/"
    },
    "id": "qCKXNrFVyKb4",
    "outputId": "a0337273-cced-47ea-b318-60b0342f2ec7"
   },
   "outputs": [
    {
     "name": "stdout",
     "output_type": "stream",
     "text": [
      "значение r_2 = 0.010657839827352134\n"
     ]
    }
   ],
   "source": [
    "X = dummy_train[['marital_status_cd_CIV', 'marital_status_cd_DIV', 'marital_status_cd_MAR', 'marital_status_cd_UNM', 'marital_status_cd_WID']]\n",
    "reg = LinearRegression().fit(X, target)\n",
    "print('значение r_2 =', reg.score(X, target))"
   ]
  },
  {
   "cell_type": "markdown",
   "metadata": {
    "id": "lUQzTr3CyVaR"
   },
   "source": [
    "И job_position_cd"
   ]
  },
  {
   "cell_type": "code",
   "execution_count": 127,
   "metadata": {
    "id": "Lpma1TnZyiQf"
   },
   "outputs": [],
   "source": [
    "names = ['job_position_cd_ATP', 'job_position_cd_BIS',\n",
    "        'job_position_cd_BIU', 'job_position_cd_DIR',\n",
    "        'job_position_cd_HSK', 'job_position_cd_INP',\n",
    "        'job_position_cd_NOR', 'job_position_cd_PNA',\n",
    "        'job_position_cd_PNI', 'job_position_cd_PNS',\n",
    "        'job_position_cd_PNV', 'job_position_cd_SPC',\n",
    "        'job_position_cd_UMN', 'job_position_cd_UNK',\n",
    "        'job_position_cd_WOI', 'job_position_cd_WRK',\n",
    "        'job_position_cd_WRP'] "
   ]
  },
  {
   "cell_type": "code",
   "execution_count": 128,
   "metadata": {
    "colab": {
     "base_uri": "https://localhost:8080/"
    },
    "id": "euQ5txzzy1Qh",
    "outputId": "e040db2d-dcdd-4fe4-cdf2-8ca8390335fb"
   },
   "outputs": [
    {
     "name": "stdout",
     "output_type": "stream",
     "text": [
      "значение r_2 = 0.15757858554987103\n"
     ]
    }
   ],
   "source": [
    "X = dummy_train[names]\n",
    "reg = LinearRegression().fit(X, target)\n",
    "print('значение r_2 =', reg.score(X, target))"
   ]
  },
  {
   "cell_type": "markdown",
   "metadata": {
    "id": "kyOpdfG47m_V"
   },
   "source": [
    "Из трех рассмотренных категориальных признаков линейная регрессия на признаке job_position_cd показывает наибольшее значение r_2. Попробуем добавить этот признак в финальную модель."
   ]
  },
  {
   "cell_type": "markdown",
   "metadata": {
    "id": "e8WE0nkY8FEE"
   },
   "source": [
    "Таким образом, из шести рассмотренных признаков следующие можно использовать для построения модели линейной регрессии\n",
    "* credit_card_sum\n",
    "* cred_av (это признак \"поделен\" на линейные участки)\n",
    "* wrst_delqbalance_max (для этого признака выполнена линеаризация через логарифм)\n",
    "* job_position_cd (для этого признака выполено one-hot кодирование)"
   ]
  },
  {
   "cell_type": "markdown",
   "metadata": {
    "id": "EWgaNJvVlgIs"
   },
   "source": [
    "### Модель линейной регрессии с выбранными признаками"
   ]
  },
  {
   "cell_type": "markdown",
   "metadata": {
    "id": "o460Oa5FzvbA"
   },
   "source": [
    "\"Собираем\" итоговый обучающий набор"
   ]
  },
  {
   "cell_type": "code",
   "execution_count": 129,
   "metadata": {
    "colab": {
     "base_uri": "https://localhost:8080/",
     "height": 226
    },
    "id": "9ajMzz9Gzyaw",
    "outputId": "31dcaaf0-93fb-4835-b909-574f59e5a2c2"
   },
   "outputs": [
    {
     "data": {
      "text/html": [
       "<div>\n",
       "<style scoped>\n",
       "    .dataframe tbody tr th:only-of-type {\n",
       "        vertical-align: middle;\n",
       "    }\n",
       "\n",
       "    .dataframe tbody tr th {\n",
       "        vertical-align: top;\n",
       "    }\n",
       "\n",
       "    .dataframe thead th {\n",
       "        text-align: right;\n",
       "    }\n",
       "</style>\n",
       "<table border=\"1\" class=\"dataframe\">\n",
       "  <thead>\n",
       "    <tr style=\"text-align: right;\">\n",
       "      <th></th>\n",
       "      <th>monthly_income_amt</th>\n",
       "      <th>education_level_cd</th>\n",
       "      <th>gender_cd</th>\n",
       "      <th>age</th>\n",
       "      <th>car_own_flg</th>\n",
       "      <th>accnt_cnt</th>\n",
       "      <th>credit_amt_max</th>\n",
       "      <th>credit_card_sum</th>\n",
       "      <th>accnt_open_due_cnt</th>\n",
       "      <th>wrst_delqbalance_max</th>\n",
       "      <th>...</th>\n",
       "      <th>job_position_cd_PNA</th>\n",
       "      <th>job_position_cd_PNI</th>\n",
       "      <th>job_position_cd_PNS</th>\n",
       "      <th>job_position_cd_PNV</th>\n",
       "      <th>job_position_cd_SPC</th>\n",
       "      <th>job_position_cd_UMN</th>\n",
       "      <th>job_position_cd_UNK</th>\n",
       "      <th>job_position_cd_WOI</th>\n",
       "      <th>job_position_cd_WRK</th>\n",
       "      <th>job_position_cd_WRP</th>\n",
       "    </tr>\n",
       "  </thead>\n",
       "  <tbody>\n",
       "    <tr>\n",
       "      <th>0</th>\n",
       "      <td>30.0</td>\n",
       "      <td>UGR</td>\n",
       "      <td>F</td>\n",
       "      <td>21</td>\n",
       "      <td>0</td>\n",
       "      <td>1.0</td>\n",
       "      <td>62.43</td>\n",
       "      <td>1.00</td>\n",
       "      <td>0.0</td>\n",
       "      <td>0.000000</td>\n",
       "      <td>...</td>\n",
       "      <td>0</td>\n",
       "      <td>0</td>\n",
       "      <td>0</td>\n",
       "      <td>0</td>\n",
       "      <td>0</td>\n",
       "      <td>0</td>\n",
       "      <td>0</td>\n",
       "      <td>0</td>\n",
       "      <td>1</td>\n",
       "      <td>0</td>\n",
       "    </tr>\n",
       "    <tr>\n",
       "      <th>1</th>\n",
       "      <td>48.0</td>\n",
       "      <td>SCH</td>\n",
       "      <td>M</td>\n",
       "      <td>36</td>\n",
       "      <td>0</td>\n",
       "      <td>9.0</td>\n",
       "      <td>128.00</td>\n",
       "      <td>22.08</td>\n",
       "      <td>0.0</td>\n",
       "      <td>0.000000</td>\n",
       "      <td>...</td>\n",
       "      <td>0</td>\n",
       "      <td>0</td>\n",
       "      <td>0</td>\n",
       "      <td>0</td>\n",
       "      <td>0</td>\n",
       "      <td>0</td>\n",
       "      <td>0</td>\n",
       "      <td>0</td>\n",
       "      <td>0</td>\n",
       "      <td>0</td>\n",
       "    </tr>\n",
       "    <tr>\n",
       "      <th>2</th>\n",
       "      <td>30.0</td>\n",
       "      <td>GRD</td>\n",
       "      <td>M</td>\n",
       "      <td>37</td>\n",
       "      <td>0</td>\n",
       "      <td>28.0</td>\n",
       "      <td>333.00</td>\n",
       "      <td>153.00</td>\n",
       "      <td>0.0</td>\n",
       "      <td>2.181547</td>\n",
       "      <td>...</td>\n",
       "      <td>0</td>\n",
       "      <td>0</td>\n",
       "      <td>0</td>\n",
       "      <td>0</td>\n",
       "      <td>1</td>\n",
       "      <td>0</td>\n",
       "      <td>0</td>\n",
       "      <td>0</td>\n",
       "      <td>0</td>\n",
       "      <td>0</td>\n",
       "    </tr>\n",
       "    <tr>\n",
       "      <th>3</th>\n",
       "      <td>11.0</td>\n",
       "      <td>SCH</td>\n",
       "      <td>F</td>\n",
       "      <td>66</td>\n",
       "      <td>0</td>\n",
       "      <td>2.0</td>\n",
       "      <td>52.90</td>\n",
       "      <td>1.00</td>\n",
       "      <td>0.0</td>\n",
       "      <td>0.000000</td>\n",
       "      <td>...</td>\n",
       "      <td>1</td>\n",
       "      <td>0</td>\n",
       "      <td>0</td>\n",
       "      <td>0</td>\n",
       "      <td>0</td>\n",
       "      <td>0</td>\n",
       "      <td>0</td>\n",
       "      <td>0</td>\n",
       "      <td>0</td>\n",
       "      <td>0</td>\n",
       "    </tr>\n",
       "    <tr>\n",
       "      <th>4</th>\n",
       "      <td>30.0</td>\n",
       "      <td>GRD</td>\n",
       "      <td>F</td>\n",
       "      <td>46</td>\n",
       "      <td>0</td>\n",
       "      <td>7.0</td>\n",
       "      <td>166.50</td>\n",
       "      <td>210.50</td>\n",
       "      <td>0.0</td>\n",
       "      <td>0.000000</td>\n",
       "      <td>...</td>\n",
       "      <td>0</td>\n",
       "      <td>0</td>\n",
       "      <td>0</td>\n",
       "      <td>0</td>\n",
       "      <td>0</td>\n",
       "      <td>1</td>\n",
       "      <td>0</td>\n",
       "      <td>0</td>\n",
       "      <td>0</td>\n",
       "      <td>0</td>\n",
       "    </tr>\n",
       "  </tbody>\n",
       "</table>\n",
       "<p>5 rows × 38 columns</p>\n",
       "</div>"
      ],
      "text/plain": [
       "   monthly_income_amt education_level_cd gender_cd  age  car_own_flg  \\\n",
       "0                30.0                UGR         F   21            0   \n",
       "1                48.0                SCH         M   36            0   \n",
       "2                30.0                GRD         M   37            0   \n",
       "3                11.0                SCH         F   66            0   \n",
       "4                30.0                GRD         F   46            0   \n",
       "\n",
       "   accnt_cnt  credit_amt_max  credit_card_sum  accnt_open_due_cnt  \\\n",
       "0        1.0           62.43             1.00                 0.0   \n",
       "1        9.0          128.00            22.08                 0.0   \n",
       "2       28.0          333.00           153.00                 0.0   \n",
       "3        2.0           52.90             1.00                 0.0   \n",
       "4        7.0          166.50           210.50                 0.0   \n",
       "\n",
       "   wrst_delqbalance_max  ...  job_position_cd_PNA  job_position_cd_PNI  \\\n",
       "0              0.000000  ...                    0                    0   \n",
       "1              0.000000  ...                    0                    0   \n",
       "2              2.181547  ...                    0                    0   \n",
       "3              0.000000  ...                    1                    0   \n",
       "4              0.000000  ...                    0                    0   \n",
       "\n",
       "   job_position_cd_PNS  job_position_cd_PNV  job_position_cd_SPC  \\\n",
       "0                    0                    0                    0   \n",
       "1                    0                    0                    0   \n",
       "2                    0                    0                    1   \n",
       "3                    0                    0                    0   \n",
       "4                    0                    0                    0   \n",
       "\n",
       "   job_position_cd_UMN  job_position_cd_UNK  job_position_cd_WOI  \\\n",
       "0                    0                    0                    0   \n",
       "1                    0                    0                    0   \n",
       "2                    0                    0                    0   \n",
       "3                    0                    0                    0   \n",
       "4                    1                    0                    0   \n",
       "\n",
       "   job_position_cd_WRK  job_position_cd_WRP  \n",
       "0                    1                    0  \n",
       "1                    0                    0  \n",
       "2                    0                    0  \n",
       "3                    0                    0  \n",
       "4                    0                    0  \n",
       "\n",
       "[5 rows x 38 columns]"
      ]
     },
     "execution_count": 129,
     "metadata": {},
     "output_type": "execute_result"
    }
   ],
   "source": [
    "train_final = dummy_train\n",
    "train_final.head()"
   ]
  },
  {
   "cell_type": "code",
   "execution_count": 130,
   "metadata": {
    "colab": {
     "base_uri": "https://localhost:8080/"
    },
    "id": "L0Kc5PJ9lvqr",
    "outputId": "4058bedb-503f-474b-e591-acd2daf0dac4"
   },
   "outputs": [
    {
     "name": "stdout",
     "output_type": "stream",
     "text": [
      "r2 на обучающем наборе = 0.296\n"
     ]
    }
   ],
   "source": [
    "model = ols.ols(formula = 'monthly_income_amt ~ credit_card_sum + cred_av_low + cred_av_high + wrst_delqbalance_max + job_position_cd_ATP + job_position_cd_BIS + job_position_cd_BIU + job_position_cd_DIR + job_position_cd_HSK + job_position_cd_INP + job_position_cd_NOR + job_position_cd_PNA + job_position_cd_PNI + job_position_cd_PNS + job_position_cd_PNV + job_position_cd_SPC + job_position_cd_UMN + job_position_cd_UNK + job_position_cd_WOI + job_position_cd_WRK + job_position_cd_WRP' , data = train_final)\n",
    "\n",
    "result_model = model.fit()\n",
    "print('r2 на обучающем наборе = ' + str(round(result_model.rsquared,3)))"
   ]
  },
  {
   "cell_type": "code",
   "execution_count": 131,
   "metadata": {
    "colab": {
     "base_uri": "https://localhost:8080/",
     "height": 771
    },
    "id": "lLhcibUEDly2",
    "outputId": "1724d321-3e0e-4916-8d62-18f7a8c21a9d"
   },
   "outputs": [
    {
     "data": {
      "text/html": [
       "<div>\n",
       "<style scoped>\n",
       "    .dataframe tbody tr th:only-of-type {\n",
       "        vertical-align: middle;\n",
       "    }\n",
       "\n",
       "    .dataframe tbody tr th {\n",
       "        vertical-align: top;\n",
       "    }\n",
       "\n",
       "    .dataframe thead th {\n",
       "        text-align: right;\n",
       "    }\n",
       "</style>\n",
       "<table border=\"1\" class=\"dataframe\">\n",
       "  <thead>\n",
       "    <tr style=\"text-align: right;\">\n",
       "      <th></th>\n",
       "      <th>p_value</th>\n",
       "    </tr>\n",
       "    <tr>\n",
       "      <th>feature</th>\n",
       "      <th></th>\n",
       "    </tr>\n",
       "  </thead>\n",
       "  <tbody>\n",
       "    <tr>\n",
       "      <th>Intercept</th>\n",
       "      <td>0.0000</td>\n",
       "    </tr>\n",
       "    <tr>\n",
       "      <th>credit_card_sum</th>\n",
       "      <td>0.0000</td>\n",
       "    </tr>\n",
       "    <tr>\n",
       "      <th>cred_av_low</th>\n",
       "      <td>0.0000</td>\n",
       "    </tr>\n",
       "    <tr>\n",
       "      <th>cred_av_high</th>\n",
       "      <td>0.0000</td>\n",
       "    </tr>\n",
       "    <tr>\n",
       "      <th>wrst_delqbalance_max</th>\n",
       "      <td>0.0000</td>\n",
       "    </tr>\n",
       "    <tr>\n",
       "      <th>job_position_cd_ATP</th>\n",
       "      <td>0.0121</td>\n",
       "    </tr>\n",
       "    <tr>\n",
       "      <th>job_position_cd_BIS</th>\n",
       "      <td>0.0000</td>\n",
       "    </tr>\n",
       "    <tr>\n",
       "      <th>job_position_cd_BIU</th>\n",
       "      <td>0.0000</td>\n",
       "    </tr>\n",
       "    <tr>\n",
       "      <th>job_position_cd_DIR</th>\n",
       "      <td>0.0000</td>\n",
       "    </tr>\n",
       "    <tr>\n",
       "      <th>job_position_cd_HSK</th>\n",
       "      <td>0.0307</td>\n",
       "    </tr>\n",
       "    <tr>\n",
       "      <th>job_position_cd_INP</th>\n",
       "      <td>0.0000</td>\n",
       "    </tr>\n",
       "    <tr>\n",
       "      <th>job_position_cd_NOR</th>\n",
       "      <td>0.0011</td>\n",
       "    </tr>\n",
       "    <tr>\n",
       "      <th>job_position_cd_PNA</th>\n",
       "      <td>0.0000</td>\n",
       "    </tr>\n",
       "    <tr>\n",
       "      <th>job_position_cd_PNI</th>\n",
       "      <td>0.0000</td>\n",
       "    </tr>\n",
       "    <tr>\n",
       "      <th>job_position_cd_PNS</th>\n",
       "      <td>0.0105</td>\n",
       "    </tr>\n",
       "    <tr>\n",
       "      <th>job_position_cd_PNV</th>\n",
       "      <td>0.0000</td>\n",
       "    </tr>\n",
       "    <tr>\n",
       "      <th>job_position_cd_SPC</th>\n",
       "      <td>0.0003</td>\n",
       "    </tr>\n",
       "    <tr>\n",
       "      <th>job_position_cd_UMN</th>\n",
       "      <td>0.0000</td>\n",
       "    </tr>\n",
       "    <tr>\n",
       "      <th>job_position_cd_UNK</th>\n",
       "      <td>0.9870</td>\n",
       "    </tr>\n",
       "    <tr>\n",
       "      <th>job_position_cd_WOI</th>\n",
       "      <td>0.2885</td>\n",
       "    </tr>\n",
       "    <tr>\n",
       "      <th>job_position_cd_WRK</th>\n",
       "      <td>0.0310</td>\n",
       "    </tr>\n",
       "    <tr>\n",
       "      <th>job_position_cd_WRP</th>\n",
       "      <td>0.6133</td>\n",
       "    </tr>\n",
       "  </tbody>\n",
       "</table>\n",
       "</div>"
      ],
      "text/plain": [
       "                      p_value\n",
       "feature                      \n",
       "Intercept              0.0000\n",
       "credit_card_sum        0.0000\n",
       "cred_av_low            0.0000\n",
       "cred_av_high           0.0000\n",
       "wrst_delqbalance_max   0.0000\n",
       "job_position_cd_ATP    0.0121\n",
       "job_position_cd_BIS    0.0000\n",
       "job_position_cd_BIU    0.0000\n",
       "job_position_cd_DIR    0.0000\n",
       "job_position_cd_HSK    0.0307\n",
       "job_position_cd_INP    0.0000\n",
       "job_position_cd_NOR    0.0011\n",
       "job_position_cd_PNA    0.0000\n",
       "job_position_cd_PNI    0.0000\n",
       "job_position_cd_PNS    0.0105\n",
       "job_position_cd_PNV    0.0000\n",
       "job_position_cd_SPC    0.0003\n",
       "job_position_cd_UMN    0.0000\n",
       "job_position_cd_UNK    0.9870\n",
       "job_position_cd_WOI    0.2885\n",
       "job_position_cd_WRK    0.0310\n",
       "job_position_cd_WRP    0.6133"
      ]
     },
     "execution_count": 131,
     "metadata": {},
     "output_type": "execute_result"
    }
   ],
   "source": [
    "pd.DataFrame(data = list(zip(result_model.pvalues.index,[round(i,4) for i in result_model.pvalues.values])),columns=['feature','p_value']).set_index('feature')"
   ]
  },
  {
   "cell_type": "markdown",
   "metadata": {
    "id": "YJi_6TF6fz8w"
   },
   "source": [
    "По значениям p-value можем сказать, что признаки значимы (job_position_cd_... не рассматриваем, т.к. это разные уровни одной и той же категориальной переменной, убиарть какие-то из этих значений нежелательно (зависит от задачи/датасета))"
   ]
  },
  {
   "cell_type": "code",
   "execution_count": 132,
   "metadata": {
    "id": "56t9ux0sgQ9v"
   },
   "outputs": [],
   "source": [
    "feature = ['credit_card_sum','cred_av_low','cred_av_high',\n",
    "           'wrst_delqbalance_max' ,'job_position_cd_ATP',\n",
    "           'job_position_cd_BIS', 'job_position_cd_BIU',\n",
    "           'job_position_cd_DIR', 'job_position_cd_HSK',\n",
    "           'job_position_cd_INP', 'job_position_cd_NOR',\n",
    "           'job_position_cd_PNA', 'job_position_cd_PNI',\n",
    "           'job_position_cd_PNS', 'job_position_cd_PNV',\n",
    "           'job_position_cd_SPC', 'job_position_cd_UMN', \n",
    "           'job_position_cd_UNK', 'job_position_cd_WOI',\n",
    "           'job_position_cd_WRK', 'job_position_cd_WRP']  "
   ]
  },
  {
   "cell_type": "markdown",
   "metadata": {
    "id": "t_PFUXgf_FkG"
   },
   "source": [
    "Необходимо выполнить one-hot кодирование и на тестовом наборе для job_position_cd + всю остальную подготовку (логарифм для wrst_delqbalance_max, удаление выбросов)"
   ]
  },
  {
   "cell_type": "code",
   "execution_count": 133,
   "metadata": {
    "colab": {
     "base_uri": "https://localhost:8080/",
     "height": 226
    },
    "id": "Xrlg7amUiEyI",
    "outputId": "5f9749e6-d9ab-4274-9713-b77b46df675f"
   },
   "outputs": [
    {
     "data": {
      "text/html": [
       "<div>\n",
       "<style scoped>\n",
       "    .dataframe tbody tr th:only-of-type {\n",
       "        vertical-align: middle;\n",
       "    }\n",
       "\n",
       "    .dataframe tbody tr th {\n",
       "        vertical-align: top;\n",
       "    }\n",
       "\n",
       "    .dataframe thead th {\n",
       "        text-align: right;\n",
       "    }\n",
       "</style>\n",
       "<table border=\"1\" class=\"dataframe\">\n",
       "  <thead>\n",
       "    <tr style=\"text-align: right;\">\n",
       "      <th></th>\n",
       "      <th>monthly_income_amt</th>\n",
       "      <th>education_level_cd</th>\n",
       "      <th>gender_cd</th>\n",
       "      <th>age</th>\n",
       "      <th>marital_status_cd</th>\n",
       "      <th>car_own_flg</th>\n",
       "      <th>work_exp_cd</th>\n",
       "      <th>accnt_cnt</th>\n",
       "      <th>credit_amt_max</th>\n",
       "      <th>credit_card_sum</th>\n",
       "      <th>...</th>\n",
       "      <th>job_position_cd_PNS</th>\n",
       "      <th>job_position_cd_PNV</th>\n",
       "      <th>job_position_cd_SPC</th>\n",
       "      <th>job_position_cd_UMN</th>\n",
       "      <th>job_position_cd_UNK</th>\n",
       "      <th>job_position_cd_WOI</th>\n",
       "      <th>job_position_cd_WRK</th>\n",
       "      <th>job_position_cd_WRP</th>\n",
       "      <th>cred_av_low</th>\n",
       "      <th>cred_av_high</th>\n",
       "    </tr>\n",
       "  </thead>\n",
       "  <tbody>\n",
       "    <tr>\n",
       "      <th>10000</th>\n",
       "      <td>82.5</td>\n",
       "      <td>SCH</td>\n",
       "      <td>F</td>\n",
       "      <td>34</td>\n",
       "      <td>CIV</td>\n",
       "      <td>0</td>\n",
       "      <td>0</td>\n",
       "      <td>3.0</td>\n",
       "      <td>5.15</td>\n",
       "      <td>1.0000</td>\n",
       "      <td>...</td>\n",
       "      <td>0</td>\n",
       "      <td>0</td>\n",
       "      <td>0</td>\n",
       "      <td>0</td>\n",
       "      <td>0</td>\n",
       "      <td>0</td>\n",
       "      <td>0</td>\n",
       "      <td>0</td>\n",
       "      <td>4.227</td>\n",
       "      <td>400.0</td>\n",
       "    </tr>\n",
       "    <tr>\n",
       "      <th>10001</th>\n",
       "      <td>25.0</td>\n",
       "      <td>SCH</td>\n",
       "      <td>M</td>\n",
       "      <td>25</td>\n",
       "      <td>CIV</td>\n",
       "      <td>0</td>\n",
       "      <td>0</td>\n",
       "      <td>2.0</td>\n",
       "      <td>13.49</td>\n",
       "      <td>1.0000</td>\n",
       "      <td>...</td>\n",
       "      <td>0</td>\n",
       "      <td>0</td>\n",
       "      <td>0</td>\n",
       "      <td>0</td>\n",
       "      <td>0</td>\n",
       "      <td>0</td>\n",
       "      <td>1</td>\n",
       "      <td>0</td>\n",
       "      <td>13.220</td>\n",
       "      <td>400.0</td>\n",
       "    </tr>\n",
       "    <tr>\n",
       "      <th>10002</th>\n",
       "      <td>100.0</td>\n",
       "      <td>SCH</td>\n",
       "      <td>M</td>\n",
       "      <td>34</td>\n",
       "      <td>MAR</td>\n",
       "      <td>1</td>\n",
       "      <td>2</td>\n",
       "      <td>23.0</td>\n",
       "      <td>551.20</td>\n",
       "      <td>346.0000</td>\n",
       "      <td>...</td>\n",
       "      <td>0</td>\n",
       "      <td>0</td>\n",
       "      <td>1</td>\n",
       "      <td>0</td>\n",
       "      <td>0</td>\n",
       "      <td>0</td>\n",
       "      <td>0</td>\n",
       "      <td>0</td>\n",
       "      <td>113.238</td>\n",
       "      <td>400.0</td>\n",
       "    </tr>\n",
       "    <tr>\n",
       "      <th>10003</th>\n",
       "      <td>48.0</td>\n",
       "      <td>GRD</td>\n",
       "      <td>M</td>\n",
       "      <td>28</td>\n",
       "      <td>UNM</td>\n",
       "      <td>0</td>\n",
       "      <td>1</td>\n",
       "      <td>8.0</td>\n",
       "      <td>22.76</td>\n",
       "      <td>1.0000</td>\n",
       "      <td>...</td>\n",
       "      <td>0</td>\n",
       "      <td>0</td>\n",
       "      <td>1</td>\n",
       "      <td>0</td>\n",
       "      <td>0</td>\n",
       "      <td>0</td>\n",
       "      <td>0</td>\n",
       "      <td>0</td>\n",
       "      <td>10.417</td>\n",
       "      <td>400.0</td>\n",
       "    </tr>\n",
       "    <tr>\n",
       "      <th>10004</th>\n",
       "      <td>170.0</td>\n",
       "      <td>GRD</td>\n",
       "      <td>F</td>\n",
       "      <td>62</td>\n",
       "      <td>WID</td>\n",
       "      <td>0</td>\n",
       "      <td>0</td>\n",
       "      <td>12.0</td>\n",
       "      <td>1000.00</td>\n",
       "      <td>440.1633</td>\n",
       "      <td>...</td>\n",
       "      <td>0</td>\n",
       "      <td>0</td>\n",
       "      <td>0</td>\n",
       "      <td>0</td>\n",
       "      <td>0</td>\n",
       "      <td>0</td>\n",
       "      <td>0</td>\n",
       "      <td>0</td>\n",
       "      <td>396.056</td>\n",
       "      <td>400.0</td>\n",
       "    </tr>\n",
       "  </tbody>\n",
       "</table>\n",
       "<p>5 rows × 32 columns</p>\n",
       "</div>"
      ],
      "text/plain": [
       "       monthly_income_amt education_level_cd gender_cd  age marital_status_cd  \\\n",
       "10000                82.5                SCH         F   34               CIV   \n",
       "10001                25.0                SCH         M   25               CIV   \n",
       "10002               100.0                SCH         M   34               MAR   \n",
       "10003                48.0                GRD         M   28               UNM   \n",
       "10004               170.0                GRD         F   62               WID   \n",
       "\n",
       "       car_own_flg  work_exp_cd  accnt_cnt  credit_amt_max  credit_card_sum  \\\n",
       "10000            0            0        3.0            5.15           1.0000   \n",
       "10001            0            0        2.0           13.49           1.0000   \n",
       "10002            1            2       23.0          551.20         346.0000   \n",
       "10003            0            1        8.0           22.76           1.0000   \n",
       "10004            0            0       12.0         1000.00         440.1633   \n",
       "\n",
       "       ...  job_position_cd_PNS  job_position_cd_PNV  job_position_cd_SPC  \\\n",
       "10000  ...                    0                    0                    0   \n",
       "10001  ...                    0                    0                    0   \n",
       "10002  ...                    0                    0                    1   \n",
       "10003  ...                    0                    0                    1   \n",
       "10004  ...                    0                    0                    0   \n",
       "\n",
       "       job_position_cd_UMN  job_position_cd_UNK  job_position_cd_WOI  \\\n",
       "10000                    0                    0                    0   \n",
       "10001                    0                    0                    0   \n",
       "10002                    0                    0                    0   \n",
       "10003                    0                    0                    0   \n",
       "10004                    0                    0                    0   \n",
       "\n",
       "       job_position_cd_WRK  job_position_cd_WRP  cred_av_low  cred_av_high  \n",
       "10000                    0                    0        4.227         400.0  \n",
       "10001                    1                    0       13.220         400.0  \n",
       "10002                    0                    0      113.238         400.0  \n",
       "10003                    0                    0       10.417         400.0  \n",
       "10004                    0                    0      396.056         400.0  \n",
       "\n",
       "[5 rows x 32 columns]"
      ]
     },
     "execution_count": 133,
     "metadata": {},
     "output_type": "execute_result"
    }
   ],
   "source": [
    "test_final = test.copy()\n",
    "test_final = test_final.assign(credit_card_sum = test_final.credit_card_sum.clip(1 ,np.percentile(test_final.credit_card_sum, 99)),\n",
    "                               wrst_delqbalance_max = test_final.wrst_delqbalance_max.clip(1 ,np.percentile(test_final.wrst_delqbalance_max, 99)),\n",
    "                               cred_av = test_final.cred_av.clip(1 ,np.percentile(test_final.cred_av, 99)),\n",
    "                               monthly_income_amt = test_final.monthly_income_amt.clip(1 ,np.percentile(test_final.monthly_income_amt, 99)))\n",
    "\n",
    "\n",
    "test_final = pd.get_dummies(test_final, prefix = ['job_position_cd'], columns=['job_position_cd'])\n",
    "test_final = (test_final.assign(wrst_delqbalance_max = np.log(test_final.wrst_delqbalance_max)))\n",
    "\n",
    "test_final['cred_av_low'] = np.where(test_final['cred_av'] < 400, test_final['cred_av'], 400)\n",
    "test_final['cred_av_high'] = np.where(test_final['cred_av'] >= 400, test_final['cred_av'], 400)\n",
    "\n",
    "test_final.head()"
   ]
  },
  {
   "cell_type": "code",
   "execution_count": 134,
   "metadata": {
    "id": "Ovu_pDjGiaEf"
   },
   "outputs": [],
   "source": [
    "y_true = test_final['monthly_income_amt']\n",
    "y_pred = result_model.predict(test_final[feature])"
   ]
  },
  {
   "cell_type": "code",
   "execution_count": 135,
   "metadata": {
    "colab": {
     "base_uri": "https://localhost:8080/"
    },
    "id": "HThyhNz6iZ8E",
    "outputId": "f1fe3aea-6c1a-4bce-bdfc-370a0f2acfbd"
   },
   "outputs": [
    {
     "data": {
      "text/plain": [
       "0.3067123698659614"
      ]
     },
     "execution_count": 135,
     "metadata": {},
     "output_type": "execute_result"
    }
   ],
   "source": [
    "from sklearn.metrics import r2_score\n",
    "r2_score(y_true, y_pred)"
   ]
  },
  {
   "cell_type": "markdown",
   "metadata": {
    "id": "fnGVsmJimlXG"
   },
   "source": [
    "Значение r_2 на тестовом наборе составило 0.3"
   ]
  },
  {
   "cell_type": "markdown",
   "metadata": {
    "id": "nI6HfHe3CtOd"
   },
   "source": [
    "###  Усиление модели с лекции\n",
    "Добавим выбранные признаки в модель, рассмотренную на лекции"
   ]
  },
  {
   "cell_type": "code",
   "execution_count": 136,
   "metadata": {
    "id": "AvTCWEWSCyNs"
   },
   "outputs": [],
   "source": [
    "test2 = df[10000:]\n",
    "train2 = df[:10000]"
   ]
  },
  {
   "cell_type": "markdown",
   "metadata": {
    "id": "hZ-CTOE5JAvO"
   },
   "source": [
    "Предварительная подготовка признаков"
   ]
  },
  {
   "cell_type": "code",
   "execution_count": 137,
   "metadata": {
    "id": "Zd7ehTGiHoz1",
    "scrolled": true
   },
   "outputs": [],
   "source": [
    "#Обработка признаков, рассмотренных на лекции\n",
    "#(...)\n",
    "\n",
    "#Обработка и добавление признаков, полученных в ходе домашней работы\n",
    "train2 = train2.assign(credit_card_sum = train2.credit_card_sum.clip(1 ,np.percentile(train2.credit_card_sum, 99)),\n",
    "                               wrst_delqbalance_max = train2.wrst_delqbalance_max.clip(1 ,np.percentile(train2.wrst_delqbalance_max, 99)),\n",
    "                               cred_av = train2.cred_av.clip(1 ,np.percentile(train2.cred_av, 99)),\n",
    "                               monthly_income_amt = train2.monthly_income_amt.clip(1 ,np.percentile(train2.monthly_income_amt, 99)))\n",
    "\n",
    "\n",
    "train2 = pd.get_dummies(train2, prefix = ['job_position_cd'], columns=['job_position_cd'])\n",
    "train2 = (train2.assign(wrst_delqbalance_max = np.log(train2.wrst_delqbalance_max)))\n",
    "\n",
    "#Разделяем признак cred_av на два\n",
    "train2['cred_av_low'] = np.where(train2['cred_av'] < 400, train2['cred_av'], 400)\n",
    "train2['cred_av_high'] = np.where(train2['cred_av'] >= 400, train2['cred_av'], 400)\n",
    "\n",
    "#итоговый обучающий набор\n",
    "train2_final = train2.copy()"
   ]
  },
  {
   "cell_type": "code",
   "execution_count": 138,
   "metadata": {
    "colab": {
     "base_uri": "https://localhost:8080/"
    },
    "id": "wbYu_DeWJXk9",
    "outputId": "f843b5d0-ae79-4b71-dea2-cc2261a942f1"
   },
   "outputs": [
    {
     "name": "stdout",
     "output_type": "stream",
     "text": [
      "r2 на обучающем наборе = 0.35\n"
     ]
    }
   ],
   "source": [
    "model = ols.ols(formula = 'monthly_income_amt ~ accnt_cnt + credit_amt_max + low_age + high_age + gender_cd + education_level_cd + cred_av_low + cred_av_high + credit_card_sum + wrst_delqbalance_max + job_position_cd_ATP + job_position_cd_BIS + job_position_cd_BIU + job_position_cd_DIR + job_position_cd_HSK + job_position_cd_INP + job_position_cd_NOR + job_position_cd_PNA + job_position_cd_PNI + job_position_cd_PNS + job_position_cd_PNV + job_position_cd_SPC + job_position_cd_UMN + job_position_cd_UNK + job_position_cd_WOI + job_position_cd_WRK + job_position_cd_WRP' , data = train2_final)\n",
    "\n",
    "res_full = model.fit()\n",
    "print('r2 на обучающем наборе = ' + str(round(res_full.rsquared,3)))"
   ]
  },
  {
   "cell_type": "markdown",
   "metadata": {
    "id": "GLpst1lQK9uN"
   },
   "source": [
    "За счет добавления новых признаков удалось повысить качество модели на трейне. Протестируем новую модель на тестовом наборе"
   ]
  },
  {
   "cell_type": "markdown",
   "metadata": {
    "id": "G8H5soF6LOa2"
   },
   "source": [
    "Готовим тестовый набор"
   ]
  },
  {
   "cell_type": "code",
   "execution_count": 139,
   "metadata": {
    "id": "Uey7KaJNK9FF"
   },
   "outputs": [],
   "source": [
    "#Обработка признаков, рассмотренных на лекции\n",
    "#(...)\n",
    "\n",
    "#Обработка и добавление признаков, полученных в ходе домашней работы\n",
    "test2 = test2.assign(credit_card_sum = test2.credit_card_sum.clip(1 ,np.percentile(test2.credit_card_sum, 99)),\n",
    "                               wrst_delqbalance_max = test2.wrst_delqbalance_max.clip(1 ,np.percentile(test2.wrst_delqbalance_max, 99)),\n",
    "                               cred_av = test2.cred_av.clip(1 ,np.percentile(test2.cred_av, 99)),\n",
    "                               monthly_income_amt = test2.monthly_income_amt.clip(1 ,np.percentile(test2.monthly_income_amt, 99)))\n",
    "\n",
    "\n",
    "test2 = pd.get_dummies(test2, prefix = ['job_position_cd'], columns=['job_position_cd'])\n",
    "test2 = (test2.assign(wrst_delqbalance_max = np.log(test2.wrst_delqbalance_max)))\n",
    "\n",
    "#Разделяем признак cred_av на два\n",
    "test2['cred_av_low'] = np.where(test2['cred_av'] < 400, test2['cred_av'], 400)\n",
    "test2['cred_av_high'] = np.where(test2['cred_av'] >= 400, test2['cred_av'], 400)\n",
    "\n",
    "\n",
    "#итоговый обучающий набор\n",
    "test2_final = test2.copy()"
   ]
  },
  {
   "cell_type": "code",
   "execution_count": 140,
   "metadata": {
    "id": "uyGgfWytLhYf"
   },
   "outputs": [],
   "source": [
    "y_true2 = test2_final['monthly_income_amt']\n",
    "features_final = ['accnt_cnt','credit_amt_max','low_age','high_age','gender_cd','education_level_cd','cred_av_low','cred_av_high','credit_card_sum','wrst_delqbalance_max','job_position_cd_ATP','job_position_cd_BIS',\n",
    "                  'job_position_cd_BIU','job_position_cd_DIR','job_position_cd_HSK','job_position_cd_INP','job_position_cd_NOR','job_position_cd_PNA','job_position_cd_PNI','job_position_cd_PNS',\n",
    "                  'job_position_cd_PNV','job_position_cd_SPC','job_position_cd_UMN','job_position_cd_UNK','job_position_cd_WOI','job_position_cd_WRK','job_position_cd_WRP']\n",
    "\n",
    "y_pred2 = res_full.predict(test2_final[features_final])"
   ]
  },
  {
   "cell_type": "code",
   "execution_count": 141,
   "metadata": {
    "colab": {
     "base_uri": "https://localhost:8080/"
    },
    "id": "Ce3fyaXyMi8O",
    "outputId": "0c87886a-d075-4f74-e5b4-a8fef73dd508"
   },
   "outputs": [
    {
     "data": {
      "text/plain": [
       "0.3406518896969767"
      ]
     },
     "execution_count": 141,
     "metadata": {},
     "output_type": "execute_result"
    }
   ],
   "source": [
    "r2_score(y_true2, y_pred2)"
   ]
  },
  {
   "cell_type": "markdown",
   "metadata": {
    "id": "SsB02MyAMlY_"
   },
   "source": [
    "За счет добавления новых признаков удалось повысить точность на тестовом наборе (r_2 = 0.34 по сравнению с 0.19 с лекции), тем не менее этот результат недостаточно качественный (хорошими были бы значения r_2 более 0.6)"
   ]
  }
 ],
 "metadata": {
  "colab": {
   "collapsed_sections": [
    "AW6uhe3FlvM_"
   ],
   "name": "ДЗ Линейная регрессия_РЕШЕНИЕ.ipynb",
   "provenance": []
  },
  "kernelspec": {
   "display_name": "Python 3",
   "language": "python",
   "name": "python3"
  },
  "language_info": {
   "codemirror_mode": {
    "name": "ipython",
    "version": 3
   },
   "file_extension": ".py",
   "mimetype": "text/x-python",
   "name": "python",
   "nbconvert_exporter": "python",
   "pygments_lexer": "ipython3",
   "version": "3.8.5"
  }
 },
 "nbformat": 4,
 "nbformat_minor": 1
}
