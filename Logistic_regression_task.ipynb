{
 "cells": [
  {
   "cell_type": "code",
   "execution_count": 244,
   "metadata": {
    "colab": {
     "base_uri": "https://localhost:8080/",
     "height": 42
    },
    "id": "3rxUSUHDqH5Q",
    "outputId": "2e534fb5-dd60-481b-ed4b-65760e851ba3"
   },
   "outputs": [],
   "source": [
    "import pandas as pd\n",
    "import numpy as np\n",
    "from math import log\n",
    "\n",
    "import matplotlib.pyplot as plt"
   ]
  },
  {
   "cell_type": "markdown",
   "metadata": {
    "id": "jD1oYKLkd29Q"
   },
   "source": [
    "### Считываем данные"
   ]
  },
  {
   "cell_type": "code",
   "execution_count": 245,
   "metadata": {
    "id": "YXhzBaA9tabD"
   },
   "outputs": [],
   "source": [
    "df = pd.read_csv('logistic_regression_dataset.csv')"
   ]
  },
  {
   "cell_type": "code",
   "execution_count": 246,
   "metadata": {
    "colab": {
     "base_uri": "https://localhost:8080/",
     "height": 313
    },
    "id": "W7GMGzdxtl0s",
    "outputId": "cd2ce71d-ffc6-4d98-f4fa-1facb390f2e1"
   },
   "outputs": [
    {
     "data": {
      "text/html": [
       "<div>\n",
       "<style scoped>\n",
       "    .dataframe tbody tr th:only-of-type {\n",
       "        vertical-align: middle;\n",
       "    }\n",
       "\n",
       "    .dataframe tbody tr th {\n",
       "        vertical-align: top;\n",
       "    }\n",
       "\n",
       "    .dataframe thead th {\n",
       "        text-align: right;\n",
       "    }\n",
       "</style>\n",
       "<table border=\"1\" class=\"dataframe\">\n",
       "  <thead>\n",
       "    <tr style=\"text-align: right;\">\n",
       "      <th></th>\n",
       "      <th>customerID</th>\n",
       "      <th>gender</th>\n",
       "      <th>SeniorCitizen</th>\n",
       "      <th>Partner</th>\n",
       "      <th>Dependents</th>\n",
       "      <th>tenure</th>\n",
       "      <th>PhoneService</th>\n",
       "      <th>MultipleLines</th>\n",
       "      <th>InternetService</th>\n",
       "      <th>OnlineSecurity</th>\n",
       "      <th>...</th>\n",
       "      <th>DeviceProtection</th>\n",
       "      <th>TechSupport</th>\n",
       "      <th>StreamingTV</th>\n",
       "      <th>StreamingMovies</th>\n",
       "      <th>Contract</th>\n",
       "      <th>PaperlessBilling</th>\n",
       "      <th>PaymentMethod</th>\n",
       "      <th>MonthlyCharges</th>\n",
       "      <th>TotalCharges</th>\n",
       "      <th>Churn</th>\n",
       "    </tr>\n",
       "  </thead>\n",
       "  <tbody>\n",
       "    <tr>\n",
       "      <th>0</th>\n",
       "      <td>7590-VHVEG</td>\n",
       "      <td>Female</td>\n",
       "      <td>0</td>\n",
       "      <td>Yes</td>\n",
       "      <td>No</td>\n",
       "      <td>1</td>\n",
       "      <td>No</td>\n",
       "      <td>No phone service</td>\n",
       "      <td>DSL</td>\n",
       "      <td>No</td>\n",
       "      <td>...</td>\n",
       "      <td>No</td>\n",
       "      <td>No</td>\n",
       "      <td>No</td>\n",
       "      <td>No</td>\n",
       "      <td>Month-to-month</td>\n",
       "      <td>Yes</td>\n",
       "      <td>Electronic check</td>\n",
       "      <td>29.85</td>\n",
       "      <td>29.85</td>\n",
       "      <td>No</td>\n",
       "    </tr>\n",
       "    <tr>\n",
       "      <th>1</th>\n",
       "      <td>5575-GNVDE</td>\n",
       "      <td>Male</td>\n",
       "      <td>0</td>\n",
       "      <td>No</td>\n",
       "      <td>No</td>\n",
       "      <td>34</td>\n",
       "      <td>Yes</td>\n",
       "      <td>No</td>\n",
       "      <td>DSL</td>\n",
       "      <td>Yes</td>\n",
       "      <td>...</td>\n",
       "      <td>Yes</td>\n",
       "      <td>No</td>\n",
       "      <td>No</td>\n",
       "      <td>No</td>\n",
       "      <td>One year</td>\n",
       "      <td>No</td>\n",
       "      <td>Mailed check</td>\n",
       "      <td>56.95</td>\n",
       "      <td>1889.5</td>\n",
       "      <td>No</td>\n",
       "    </tr>\n",
       "    <tr>\n",
       "      <th>2</th>\n",
       "      <td>3668-QPYBK</td>\n",
       "      <td>Male</td>\n",
       "      <td>0</td>\n",
       "      <td>No</td>\n",
       "      <td>No</td>\n",
       "      <td>2</td>\n",
       "      <td>Yes</td>\n",
       "      <td>No</td>\n",
       "      <td>DSL</td>\n",
       "      <td>Yes</td>\n",
       "      <td>...</td>\n",
       "      <td>No</td>\n",
       "      <td>No</td>\n",
       "      <td>No</td>\n",
       "      <td>No</td>\n",
       "      <td>Month-to-month</td>\n",
       "      <td>Yes</td>\n",
       "      <td>Mailed check</td>\n",
       "      <td>53.85</td>\n",
       "      <td>108.15</td>\n",
       "      <td>Yes</td>\n",
       "    </tr>\n",
       "    <tr>\n",
       "      <th>3</th>\n",
       "      <td>7795-CFOCW</td>\n",
       "      <td>Male</td>\n",
       "      <td>0</td>\n",
       "      <td>No</td>\n",
       "      <td>No</td>\n",
       "      <td>45</td>\n",
       "      <td>No</td>\n",
       "      <td>No phone service</td>\n",
       "      <td>DSL</td>\n",
       "      <td>Yes</td>\n",
       "      <td>...</td>\n",
       "      <td>Yes</td>\n",
       "      <td>Yes</td>\n",
       "      <td>No</td>\n",
       "      <td>No</td>\n",
       "      <td>One year</td>\n",
       "      <td>No</td>\n",
       "      <td>Bank transfer (automatic)</td>\n",
       "      <td>42.30</td>\n",
       "      <td>1840.75</td>\n",
       "      <td>No</td>\n",
       "    </tr>\n",
       "    <tr>\n",
       "      <th>4</th>\n",
       "      <td>9237-HQITU</td>\n",
       "      <td>Female</td>\n",
       "      <td>0</td>\n",
       "      <td>No</td>\n",
       "      <td>No</td>\n",
       "      <td>2</td>\n",
       "      <td>Yes</td>\n",
       "      <td>No</td>\n",
       "      <td>Fiber optic</td>\n",
       "      <td>No</td>\n",
       "      <td>...</td>\n",
       "      <td>No</td>\n",
       "      <td>No</td>\n",
       "      <td>No</td>\n",
       "      <td>No</td>\n",
       "      <td>Month-to-month</td>\n",
       "      <td>Yes</td>\n",
       "      <td>Electronic check</td>\n",
       "      <td>70.70</td>\n",
       "      <td>151.65</td>\n",
       "      <td>Yes</td>\n",
       "    </tr>\n",
       "  </tbody>\n",
       "</table>\n",
       "<p>5 rows × 21 columns</p>\n",
       "</div>"
      ],
      "text/plain": [
       "   customerID  gender  SeniorCitizen Partner Dependents  tenure PhoneService  \\\n",
       "0  7590-VHVEG  Female              0     Yes         No       1           No   \n",
       "1  5575-GNVDE    Male              0      No         No      34          Yes   \n",
       "2  3668-QPYBK    Male              0      No         No       2          Yes   \n",
       "3  7795-CFOCW    Male              0      No         No      45           No   \n",
       "4  9237-HQITU  Female              0      No         No       2          Yes   \n",
       "\n",
       "      MultipleLines InternetService OnlineSecurity  ... DeviceProtection  \\\n",
       "0  No phone service             DSL             No  ...               No   \n",
       "1                No             DSL            Yes  ...              Yes   \n",
       "2                No             DSL            Yes  ...               No   \n",
       "3  No phone service             DSL            Yes  ...              Yes   \n",
       "4                No     Fiber optic             No  ...               No   \n",
       "\n",
       "  TechSupport StreamingTV StreamingMovies        Contract PaperlessBilling  \\\n",
       "0          No          No              No  Month-to-month              Yes   \n",
       "1          No          No              No        One year               No   \n",
       "2          No          No              No  Month-to-month              Yes   \n",
       "3         Yes          No              No        One year               No   \n",
       "4          No          No              No  Month-to-month              Yes   \n",
       "\n",
       "               PaymentMethod MonthlyCharges  TotalCharges Churn  \n",
       "0           Electronic check          29.85         29.85    No  \n",
       "1               Mailed check          56.95        1889.5    No  \n",
       "2               Mailed check          53.85        108.15   Yes  \n",
       "3  Bank transfer (automatic)          42.30       1840.75    No  \n",
       "4           Electronic check          70.70        151.65   Yes  \n",
       "\n",
       "[5 rows x 21 columns]"
      ]
     },
     "execution_count": 246,
     "metadata": {},
     "output_type": "execute_result"
    }
   ],
   "source": [
    "df.head()"
   ]
  },
  {
   "cell_type": "markdown",
   "metadata": {
    "id": "Gim_iQUsICJQ"
   },
   "source": [
    "### Обработка данных\n",
    "Размер набора данных"
   ]
  },
  {
   "cell_type": "code",
   "execution_count": 247,
   "metadata": {
    "colab": {
     "base_uri": "https://localhost:8080/"
    },
    "id": "ngOa8IBcH-ZE",
    "outputId": "8966750c-05aa-4577-be86-bd26b2ba5319"
   },
   "outputs": [
    {
     "name": "stdout",
     "output_type": "stream",
     "text": [
      "7043\n"
     ]
    }
   ],
   "source": [
    "print(len(df))"
   ]
  },
  {
   "cell_type": "markdown",
   "metadata": {
    "id": "rCoHskDlCLV4"
   },
   "source": [
    "Проверка на наличие/отсутствие NaN "
   ]
  },
  {
   "cell_type": "code",
   "execution_count": 248,
   "metadata": {
    "colab": {
     "base_uri": "https://localhost:8080/"
    },
    "id": "kacfhdbWI0BB",
    "outputId": "47bcabc5-a660-4b45-a83a-65340d17d9af"
   },
   "outputs": [
    {
     "name": "stdout",
     "output_type": "stream",
     "text": [
      "number of NaN\n",
      "for customerID: 0\n",
      "for gender: 0\n",
      "for SeniorCitizen: 0\n",
      "for Partner: 0\n",
      "for Dependents: 0\n",
      "for tenure: 0\n",
      "for PhoneService: 0\n",
      "for MultipleLines: 0\n",
      "for InternetService: 0\n",
      "for OnlineSecurity: 0\n",
      "for OnlineBackup: 0\n",
      "for DeviceProtection: 0\n",
      "for TechSupport: 0\n",
      "for StreamingTV: 0\n",
      "for StreamingMovies: 0\n",
      "for Contract: 0\n",
      "for PaperlessBilling: 0\n",
      "for PaymentMethod: 0\n",
      "for MonthlyCharges: 0\n",
      "for TotalCharges: 0\n",
      "for Churn: 0\n"
     ]
    }
   ],
   "source": [
    "columns = df.columns\n",
    "print('number of NaN')\n",
    "for name in columns:\n",
    "    print('for ' + name + ':', df[name].isnull().sum())"
   ]
  },
  {
   "cell_type": "markdown",
   "metadata": {
    "id": "WVXi_atDCYfR"
   },
   "source": [
    "В текущем наборе данных нет пропусков"
   ]
  },
  {
   "cell_type": "markdown",
   "metadata": {
    "id": "G_2dV7I1DOww"
   },
   "source": [
    "Для переменных, принимающих только два значения (yes/no) преобразуем yes в 1 и no в 0"
   ]
  },
  {
   "cell_type": "code",
   "execution_count": 249,
   "metadata": {
    "colab": {
     "base_uri": "https://localhost:8080/"
    },
    "id": "8xgPKTTpJEEx",
    "outputId": "5e46a105-1a6a-41c8-eed4-ad29fed72eee"
   },
   "outputs": [
    {
     "name": "stdout",
     "output_type": "stream",
     "text": [
      "unique values\n",
      "for gender: ['Female' 'Male']\n",
      "for SeniorCitizen: [0 1]\n",
      "for Partner: ['Yes' 'No']\n",
      "for Dependents: ['No' 'Yes']\n",
      "for tenure: [ 1 34  2 45  8 22 10 28 62 13 16 58 49 25 69 52 71 21 12 30 47 72 17 27\n",
      "  5 46 11 70 63 43 15 60 18 66  9  3 31 50 64 56  7 42 35 48 29 65 38 68\n",
      " 32 55 37 36 41  6  4 33 67 23 57 61 14 20 53 40 59 24 44 19 54 51 26  0\n",
      " 39]\n",
      "for PhoneService: ['No' 'Yes']\n",
      "for MultipleLines: ['No phone service' 'No' 'Yes']\n",
      "for InternetService: ['DSL' 'Fiber optic' 'No']\n",
      "for OnlineSecurity: ['No' 'Yes' 'No internet service']\n",
      "for OnlineBackup: ['Yes' 'No' 'No internet service']\n",
      "for DeviceProtection: ['No' 'Yes' 'No internet service']\n",
      "for TechSupport: ['No' 'Yes' 'No internet service']\n",
      "for StreamingTV: ['No' 'Yes' 'No internet service']\n",
      "for StreamingMovies: ['No' 'Yes' 'No internet service']\n",
      "for Contract: ['Month-to-month' 'One year' 'Two year']\n",
      "for PaperlessBilling: ['Yes' 'No']\n",
      "for PaymentMethod: ['Electronic check' 'Mailed check' 'Bank transfer (automatic)'\n",
      " 'Credit card (automatic)']\n",
      "for MonthlyCharges: [29.85 56.95 53.85 ... 63.1  44.2  78.7 ]\n",
      "for TotalCharges: ['29.85' '1889.5' '108.15' ... '346.45' '306.6' '6844.5']\n",
      "for Churn: ['No' 'Yes']\n"
     ]
    }
   ],
   "source": [
    "print('unique values')\n",
    "#columns[0] не рассматриваем, т.к. это ID клиента\n",
    "for name in columns[1:]:\n",
    "    print('for ' + name + ':', pd.unique(df[name]))"
   ]
  },
  {
   "cell_type": "markdown",
   "metadata": {
    "id": "BEDIDTdmDwZ3"
   },
   "source": [
    "следующие признаки имеют только 2 значения (yes/no)\n",
    "* Partner\n",
    "* Dependents\n",
    "* PhoneService\n",
    "* PaperlessBilling\n",
    "* Churn (целевая переменная)"
   ]
  },
  {
   "cell_type": "code",
   "execution_count": 250,
   "metadata": {
    "id": "HCT7slKWE5VX"
   },
   "outputs": [],
   "source": [
    "replace_names = ['Partner', 'Dependents', 'PhoneService', 'PaperlessBilling', 'Churn']\n",
    "for name in replace_names:\n",
    "    df[name] = df[name].replace(to_replace = ['Yes','No'],value = [1,0])"
   ]
  },
  {
   "cell_type": "markdown",
   "metadata": {
    "id": "ERfLxSBZGvpQ"
   },
   "source": [
    "Для признака gender соответственно\n",
    "* Male = 1\n",
    "* Female = 0"
   ]
  },
  {
   "cell_type": "code",
   "execution_count": 251,
   "metadata": {
    "id": "QABVQET4Guio"
   },
   "outputs": [],
   "source": [
    "df.gender = df.gender.replace(to_replace = ['Male','Female'],value = [1,0])"
   ]
  },
  {
   "cell_type": "code",
   "execution_count": 252,
   "metadata": {
    "colab": {
     "base_uri": "https://localhost:8080/",
     "height": 313
    },
    "id": "w-MCks0bFfcg",
    "outputId": "23cd3162-7ac8-4fea-ac5c-8668b3c73b9b"
   },
   "outputs": [
    {
     "data": {
      "text/html": [
       "<div>\n",
       "<style scoped>\n",
       "    .dataframe tbody tr th:only-of-type {\n",
       "        vertical-align: middle;\n",
       "    }\n",
       "\n",
       "    .dataframe tbody tr th {\n",
       "        vertical-align: top;\n",
       "    }\n",
       "\n",
       "    .dataframe thead th {\n",
       "        text-align: right;\n",
       "    }\n",
       "</style>\n",
       "<table border=\"1\" class=\"dataframe\">\n",
       "  <thead>\n",
       "    <tr style=\"text-align: right;\">\n",
       "      <th></th>\n",
       "      <th>customerID</th>\n",
       "      <th>gender</th>\n",
       "      <th>SeniorCitizen</th>\n",
       "      <th>Partner</th>\n",
       "      <th>Dependents</th>\n",
       "      <th>tenure</th>\n",
       "      <th>PhoneService</th>\n",
       "      <th>MultipleLines</th>\n",
       "      <th>InternetService</th>\n",
       "      <th>OnlineSecurity</th>\n",
       "      <th>...</th>\n",
       "      <th>DeviceProtection</th>\n",
       "      <th>TechSupport</th>\n",
       "      <th>StreamingTV</th>\n",
       "      <th>StreamingMovies</th>\n",
       "      <th>Contract</th>\n",
       "      <th>PaperlessBilling</th>\n",
       "      <th>PaymentMethod</th>\n",
       "      <th>MonthlyCharges</th>\n",
       "      <th>TotalCharges</th>\n",
       "      <th>Churn</th>\n",
       "    </tr>\n",
       "  </thead>\n",
       "  <tbody>\n",
       "    <tr>\n",
       "      <th>0</th>\n",
       "      <td>7590-VHVEG</td>\n",
       "      <td>0</td>\n",
       "      <td>0</td>\n",
       "      <td>1</td>\n",
       "      <td>0</td>\n",
       "      <td>1</td>\n",
       "      <td>0</td>\n",
       "      <td>No phone service</td>\n",
       "      <td>DSL</td>\n",
       "      <td>No</td>\n",
       "      <td>...</td>\n",
       "      <td>No</td>\n",
       "      <td>No</td>\n",
       "      <td>No</td>\n",
       "      <td>No</td>\n",
       "      <td>Month-to-month</td>\n",
       "      <td>1</td>\n",
       "      <td>Electronic check</td>\n",
       "      <td>29.85</td>\n",
       "      <td>29.85</td>\n",
       "      <td>0</td>\n",
       "    </tr>\n",
       "    <tr>\n",
       "      <th>1</th>\n",
       "      <td>5575-GNVDE</td>\n",
       "      <td>1</td>\n",
       "      <td>0</td>\n",
       "      <td>0</td>\n",
       "      <td>0</td>\n",
       "      <td>34</td>\n",
       "      <td>1</td>\n",
       "      <td>No</td>\n",
       "      <td>DSL</td>\n",
       "      <td>Yes</td>\n",
       "      <td>...</td>\n",
       "      <td>Yes</td>\n",
       "      <td>No</td>\n",
       "      <td>No</td>\n",
       "      <td>No</td>\n",
       "      <td>One year</td>\n",
       "      <td>0</td>\n",
       "      <td>Mailed check</td>\n",
       "      <td>56.95</td>\n",
       "      <td>1889.5</td>\n",
       "      <td>0</td>\n",
       "    </tr>\n",
       "    <tr>\n",
       "      <th>2</th>\n",
       "      <td>3668-QPYBK</td>\n",
       "      <td>1</td>\n",
       "      <td>0</td>\n",
       "      <td>0</td>\n",
       "      <td>0</td>\n",
       "      <td>2</td>\n",
       "      <td>1</td>\n",
       "      <td>No</td>\n",
       "      <td>DSL</td>\n",
       "      <td>Yes</td>\n",
       "      <td>...</td>\n",
       "      <td>No</td>\n",
       "      <td>No</td>\n",
       "      <td>No</td>\n",
       "      <td>No</td>\n",
       "      <td>Month-to-month</td>\n",
       "      <td>1</td>\n",
       "      <td>Mailed check</td>\n",
       "      <td>53.85</td>\n",
       "      <td>108.15</td>\n",
       "      <td>1</td>\n",
       "    </tr>\n",
       "    <tr>\n",
       "      <th>3</th>\n",
       "      <td>7795-CFOCW</td>\n",
       "      <td>1</td>\n",
       "      <td>0</td>\n",
       "      <td>0</td>\n",
       "      <td>0</td>\n",
       "      <td>45</td>\n",
       "      <td>0</td>\n",
       "      <td>No phone service</td>\n",
       "      <td>DSL</td>\n",
       "      <td>Yes</td>\n",
       "      <td>...</td>\n",
       "      <td>Yes</td>\n",
       "      <td>Yes</td>\n",
       "      <td>No</td>\n",
       "      <td>No</td>\n",
       "      <td>One year</td>\n",
       "      <td>0</td>\n",
       "      <td>Bank transfer (automatic)</td>\n",
       "      <td>42.30</td>\n",
       "      <td>1840.75</td>\n",
       "      <td>0</td>\n",
       "    </tr>\n",
       "    <tr>\n",
       "      <th>4</th>\n",
       "      <td>9237-HQITU</td>\n",
       "      <td>0</td>\n",
       "      <td>0</td>\n",
       "      <td>0</td>\n",
       "      <td>0</td>\n",
       "      <td>2</td>\n",
       "      <td>1</td>\n",
       "      <td>No</td>\n",
       "      <td>Fiber optic</td>\n",
       "      <td>No</td>\n",
       "      <td>...</td>\n",
       "      <td>No</td>\n",
       "      <td>No</td>\n",
       "      <td>No</td>\n",
       "      <td>No</td>\n",
       "      <td>Month-to-month</td>\n",
       "      <td>1</td>\n",
       "      <td>Electronic check</td>\n",
       "      <td>70.70</td>\n",
       "      <td>151.65</td>\n",
       "      <td>1</td>\n",
       "    </tr>\n",
       "  </tbody>\n",
       "</table>\n",
       "<p>5 rows × 21 columns</p>\n",
       "</div>"
      ],
      "text/plain": [
       "   customerID  gender  SeniorCitizen  Partner  Dependents  tenure  \\\n",
       "0  7590-VHVEG       0              0        1           0       1   \n",
       "1  5575-GNVDE       1              0        0           0      34   \n",
       "2  3668-QPYBK       1              0        0           0       2   \n",
       "3  7795-CFOCW       1              0        0           0      45   \n",
       "4  9237-HQITU       0              0        0           0       2   \n",
       "\n",
       "   PhoneService     MultipleLines InternetService OnlineSecurity  ...  \\\n",
       "0             0  No phone service             DSL             No  ...   \n",
       "1             1                No             DSL            Yes  ...   \n",
       "2             1                No             DSL            Yes  ...   \n",
       "3             0  No phone service             DSL            Yes  ...   \n",
       "4             1                No     Fiber optic             No  ...   \n",
       "\n",
       "  DeviceProtection TechSupport StreamingTV StreamingMovies        Contract  \\\n",
       "0               No          No          No              No  Month-to-month   \n",
       "1              Yes          No          No              No        One year   \n",
       "2               No          No          No              No  Month-to-month   \n",
       "3              Yes         Yes          No              No        One year   \n",
       "4               No          No          No              No  Month-to-month   \n",
       "\n",
       "  PaperlessBilling              PaymentMethod MonthlyCharges  TotalCharges  \\\n",
       "0                1           Electronic check          29.85         29.85   \n",
       "1                0               Mailed check          56.95        1889.5   \n",
       "2                1               Mailed check          53.85        108.15   \n",
       "3                0  Bank transfer (automatic)          42.30       1840.75   \n",
       "4                1           Electronic check          70.70        151.65   \n",
       "\n",
       "  Churn  \n",
       "0     0  \n",
       "1     0  \n",
       "2     1  \n",
       "3     0  \n",
       "4     1  \n",
       "\n",
       "[5 rows x 21 columns]"
      ]
     },
     "execution_count": 252,
     "metadata": {},
     "output_type": "execute_result"
    }
   ],
   "source": [
    "df.head()"
   ]
  },
  {
   "cell_type": "markdown",
   "metadata": {
    "id": "SGnNLNunKJ6g"
   },
   "source": [
    "Остальные категориальные переменные кодируем с помощью one-hot encoding уже после разбиения на обучающую и тестовую выборки. Данных в наборе мало (чуть больше 7000 примеров), поэтому выборок будет только две: одна обучающая, одна тестовая"
   ]
  },
  {
   "cell_type": "markdown",
   "metadata": {
    "id": "Z5nvb-YaLU2C"
   },
   "source": [
    "Так как в данной задаче необходимо оченить вероятность того, что клиент перестанет пользоваться продуктом в следующем месяце, для тренировочного набора нужно выбирать те примеры, в которых клиент провел в более месяца, чтобы успеть зафиксировать все изменения, на основании которых принимается решение"
   ]
  },
  {
   "cell_type": "code",
   "execution_count": 253,
   "metadata": {
    "colab": {
     "base_uri": "https://localhost:8080/"
    },
    "id": "NjlBkYwkL4az",
    "outputId": "ae60f7eb-ec29-4a01-bc8d-aa55af6fd114"
   },
   "outputs": [
    {
     "data": {
      "text/plain": [
       "0.911401391452506"
      ]
     },
     "execution_count": 253,
     "metadata": {},
     "output_type": "execute_result"
    }
   ],
   "source": [
    "len(df[df['tenure'] >= 2])/len(df)"
   ]
  },
  {
   "cell_type": "markdown",
   "metadata": {
    "id": "Fzmymu2sMcij"
   },
   "source": [
    "в датасете 91% составляют примеры, в которых время жизни клиента в компании превышает или равно 2 месяцам, поэтому в данном случае можно разделить набор данных пополам на тестовый и тренировочный набор"
   ]
  },
  {
   "cell_type": "code",
   "execution_count": 254,
   "metadata": {
    "id": "05yi-wg-KI3K"
   },
   "outputs": [],
   "source": [
    "train = df[:3500]\n",
    "test = df[3500:]"
   ]
  },
  {
   "cell_type": "markdown",
   "metadata": {
    "id": "ipdyfNYKHABE"
   },
   "source": [
    "one-hot encoding для категориальных признаков"
   ]
  },
  {
   "cell_type": "code",
   "execution_count": 255,
   "metadata": {
    "id": "JvQ3p0rzHG2n"
   },
   "outputs": [],
   "source": [
    "train = pd.get_dummies(train, prefix = ['MultipleLines', 'InternetService','Contract', 'PaymentMethod'],\n",
    "                   columns = ['MultipleLines', 'InternetService','Contract', 'PaymentMethod'])"
   ]
  },
  {
   "cell_type": "code",
   "execution_count": 256,
   "metadata": {},
   "outputs": [
    {
     "data": {
      "text/html": [
       "<div>\n",
       "<style scoped>\n",
       "    .dataframe tbody tr th:only-of-type {\n",
       "        vertical-align: middle;\n",
       "    }\n",
       "\n",
       "    .dataframe tbody tr th {\n",
       "        vertical-align: top;\n",
       "    }\n",
       "\n",
       "    .dataframe thead th {\n",
       "        text-align: right;\n",
       "    }\n",
       "</style>\n",
       "<table border=\"1\" class=\"dataframe\">\n",
       "  <thead>\n",
       "    <tr style=\"text-align: right;\">\n",
       "      <th></th>\n",
       "      <th>customerID</th>\n",
       "      <th>gender</th>\n",
       "      <th>SeniorCitizen</th>\n",
       "      <th>Partner</th>\n",
       "      <th>Dependents</th>\n",
       "      <th>tenure</th>\n",
       "      <th>PhoneService</th>\n",
       "      <th>OnlineSecurity</th>\n",
       "      <th>OnlineBackup</th>\n",
       "      <th>DeviceProtection</th>\n",
       "      <th>...</th>\n",
       "      <th>InternetService_DSL</th>\n",
       "      <th>InternetService_Fiber optic</th>\n",
       "      <th>InternetService_No</th>\n",
       "      <th>Contract_Month-to-month</th>\n",
       "      <th>Contract_One year</th>\n",
       "      <th>Contract_Two year</th>\n",
       "      <th>PaymentMethod_Bank transfer (automatic)</th>\n",
       "      <th>PaymentMethod_Credit card (automatic)</th>\n",
       "      <th>PaymentMethod_Electronic check</th>\n",
       "      <th>PaymentMethod_Mailed check</th>\n",
       "    </tr>\n",
       "  </thead>\n",
       "  <tbody>\n",
       "    <tr>\n",
       "      <th>0</th>\n",
       "      <td>7590-VHVEG</td>\n",
       "      <td>0</td>\n",
       "      <td>0</td>\n",
       "      <td>1</td>\n",
       "      <td>0</td>\n",
       "      <td>1</td>\n",
       "      <td>0</td>\n",
       "      <td>No</td>\n",
       "      <td>Yes</td>\n",
       "      <td>No</td>\n",
       "      <td>...</td>\n",
       "      <td>1</td>\n",
       "      <td>0</td>\n",
       "      <td>0</td>\n",
       "      <td>1</td>\n",
       "      <td>0</td>\n",
       "      <td>0</td>\n",
       "      <td>0</td>\n",
       "      <td>0</td>\n",
       "      <td>1</td>\n",
       "      <td>0</td>\n",
       "    </tr>\n",
       "    <tr>\n",
       "      <th>1</th>\n",
       "      <td>5575-GNVDE</td>\n",
       "      <td>1</td>\n",
       "      <td>0</td>\n",
       "      <td>0</td>\n",
       "      <td>0</td>\n",
       "      <td>34</td>\n",
       "      <td>1</td>\n",
       "      <td>Yes</td>\n",
       "      <td>No</td>\n",
       "      <td>Yes</td>\n",
       "      <td>...</td>\n",
       "      <td>1</td>\n",
       "      <td>0</td>\n",
       "      <td>0</td>\n",
       "      <td>0</td>\n",
       "      <td>1</td>\n",
       "      <td>0</td>\n",
       "      <td>0</td>\n",
       "      <td>0</td>\n",
       "      <td>0</td>\n",
       "      <td>1</td>\n",
       "    </tr>\n",
       "    <tr>\n",
       "      <th>2</th>\n",
       "      <td>3668-QPYBK</td>\n",
       "      <td>1</td>\n",
       "      <td>0</td>\n",
       "      <td>0</td>\n",
       "      <td>0</td>\n",
       "      <td>2</td>\n",
       "      <td>1</td>\n",
       "      <td>Yes</td>\n",
       "      <td>Yes</td>\n",
       "      <td>No</td>\n",
       "      <td>...</td>\n",
       "      <td>1</td>\n",
       "      <td>0</td>\n",
       "      <td>0</td>\n",
       "      <td>1</td>\n",
       "      <td>0</td>\n",
       "      <td>0</td>\n",
       "      <td>0</td>\n",
       "      <td>0</td>\n",
       "      <td>0</td>\n",
       "      <td>1</td>\n",
       "    </tr>\n",
       "    <tr>\n",
       "      <th>3</th>\n",
       "      <td>7795-CFOCW</td>\n",
       "      <td>1</td>\n",
       "      <td>0</td>\n",
       "      <td>0</td>\n",
       "      <td>0</td>\n",
       "      <td>45</td>\n",
       "      <td>0</td>\n",
       "      <td>Yes</td>\n",
       "      <td>No</td>\n",
       "      <td>Yes</td>\n",
       "      <td>...</td>\n",
       "      <td>1</td>\n",
       "      <td>0</td>\n",
       "      <td>0</td>\n",
       "      <td>0</td>\n",
       "      <td>1</td>\n",
       "      <td>0</td>\n",
       "      <td>1</td>\n",
       "      <td>0</td>\n",
       "      <td>0</td>\n",
       "      <td>0</td>\n",
       "    </tr>\n",
       "    <tr>\n",
       "      <th>4</th>\n",
       "      <td>9237-HQITU</td>\n",
       "      <td>0</td>\n",
       "      <td>0</td>\n",
       "      <td>0</td>\n",
       "      <td>0</td>\n",
       "      <td>2</td>\n",
       "      <td>1</td>\n",
       "      <td>No</td>\n",
       "      <td>No</td>\n",
       "      <td>No</td>\n",
       "      <td>...</td>\n",
       "      <td>0</td>\n",
       "      <td>1</td>\n",
       "      <td>0</td>\n",
       "      <td>1</td>\n",
       "      <td>0</td>\n",
       "      <td>0</td>\n",
       "      <td>0</td>\n",
       "      <td>0</td>\n",
       "      <td>1</td>\n",
       "      <td>0</td>\n",
       "    </tr>\n",
       "  </tbody>\n",
       "</table>\n",
       "<p>5 rows × 30 columns</p>\n",
       "</div>"
      ],
      "text/plain": [
       "   customerID  gender  SeniorCitizen  Partner  Dependents  tenure  \\\n",
       "0  7590-VHVEG       0              0        1           0       1   \n",
       "1  5575-GNVDE       1              0        0           0      34   \n",
       "2  3668-QPYBK       1              0        0           0       2   \n",
       "3  7795-CFOCW       1              0        0           0      45   \n",
       "4  9237-HQITU       0              0        0           0       2   \n",
       "\n",
       "   PhoneService OnlineSecurity OnlineBackup DeviceProtection  ...  \\\n",
       "0             0             No          Yes               No  ...   \n",
       "1             1            Yes           No              Yes  ...   \n",
       "2             1            Yes          Yes               No  ...   \n",
       "3             0            Yes           No              Yes  ...   \n",
       "4             1             No           No               No  ...   \n",
       "\n",
       "  InternetService_DSL InternetService_Fiber optic InternetService_No  \\\n",
       "0                   1                           0                  0   \n",
       "1                   1                           0                  0   \n",
       "2                   1                           0                  0   \n",
       "3                   1                           0                  0   \n",
       "4                   0                           1                  0   \n",
       "\n",
       "   Contract_Month-to-month  Contract_One year Contract_Two year  \\\n",
       "0                        1                  0                 0   \n",
       "1                        0                  1                 0   \n",
       "2                        1                  0                 0   \n",
       "3                        0                  1                 0   \n",
       "4                        1                  0                 0   \n",
       "\n",
       "   PaymentMethod_Bank transfer (automatic)  \\\n",
       "0                                        0   \n",
       "1                                        0   \n",
       "2                                        0   \n",
       "3                                        1   \n",
       "4                                        0   \n",
       "\n",
       "   PaymentMethod_Credit card (automatic)  PaymentMethod_Electronic check  \\\n",
       "0                                      0                               1   \n",
       "1                                      0                               0   \n",
       "2                                      0                               0   \n",
       "3                                      0                               0   \n",
       "4                                      0                               1   \n",
       "\n",
       "   PaymentMethod_Mailed check  \n",
       "0                           0  \n",
       "1                           1  \n",
       "2                           1  \n",
       "3                           0  \n",
       "4                           0  \n",
       "\n",
       "[5 rows x 30 columns]"
      ]
     },
     "execution_count": 256,
     "metadata": {},
     "output_type": "execute_result"
    }
   ],
   "source": [
    "train.head(5)"
   ]
  },
  {
   "cell_type": "markdown",
   "metadata": {
    "id": "Gs7PeuZ8NLEb"
   },
   "source": [
    "### Подбор признаков для модели"
   ]
  },
  {
   "cell_type": "markdown",
   "metadata": {
    "id": "j2RoLKhoHyzE"
   },
   "source": [
    "Рассотрим для построения модели следующие признаки\n",
    "* tenure\n",
    "* gender\n",
    "* Partner\n",
    "* MonthlyCharges\n",
    "* MultipleLines\n",
    "* InternetService\n",
    "* Contract\n",
    "* PaymentMethod"
   ]
  },
  {
   "cell_type": "markdown",
   "metadata": {
    "id": "-FAni6dlEnFl"
   },
   "source": [
    "Избавляемся от выбросов (количественные признаки)"
   ]
  },
  {
   "cell_type": "code",
   "execution_count": 257,
   "metadata": {
    "id": "3HROXrE6Q6sO"
   },
   "outputs": [],
   "source": [
    "train = train.assign(tenure = train.tenure.clip(0, np.percentile(train.tenure, 99)),\n",
    "                     MonthlyCharges = train.MonthlyCharges.clip(0,np.percentile(train.MonthlyCharges, 99)))"
   ]
  },
  {
   "cell_type": "markdown",
   "metadata": {
    "id": "LdPaga86PXxT"
   },
   "source": [
    "Проанализируем влияние этих признаков на таргет через WoE и окончательно убедимся в необходимости их использования"
   ]
  },
  {
   "cell_type": "markdown",
   "metadata": {
    "id": "mOsNvmwguY75"
   },
   "source": [
    "### Непрерывные признаки"
   ]
  },
  {
   "cell_type": "markdown",
   "metadata": {},
   "source": [
    "Вычисление WoE"
   ]
  },
  {
   "cell_type": "code",
   "execution_count": 258,
   "metadata": {},
   "outputs": [],
   "source": [
    "def woe_calculation(data, target, feature):\n",
    "    #Для всего набора данных \n",
    "    bad_events_all = data[target].sum()\n",
    "    good_events_all = len(data) - bad_events_all\n",
    "    #Для каждой группы\n",
    "    data['bucket'] = np.floor(data[feature].rank(pct = True) * 20)\n",
    "    data.head()\n",
    "    data = data.groupby('bucket').agg(sum_of_events=(target,'sum'), all_counts=(target,'count'), average_feature=(feature,'mean'))\n",
    "    good_events_bucket = data['all_counts'] - data['sum_of_events']\n",
    "    bad_events_bucket = data['sum_of_events']        \n",
    "    data['WoE'] = np.log(bad_events_bucket / good_events_bucket) - np.log(bad_events_all / good_events_all)\n",
    "    return data"
   ]
  },
  {
   "cell_type": "code",
   "execution_count": 259,
   "metadata": {},
   "outputs": [],
   "source": [
    "data = train.copy()"
   ]
  },
  {
   "cell_type": "code",
   "execution_count": 260,
   "metadata": {},
   "outputs": [],
   "source": [
    "feature = 'MonthlyCharges'\n",
    "target = 'Churn'\n",
    "\n",
    "MonthlyCharges_woe = woe_calculation(data, 'Churn', 'MonthlyCharges')\n",
    "tenure_woe = woe_calculation(data, 'Churn', 'tenure')"
   ]
  },
  {
   "cell_type": "code",
   "execution_count": 261,
   "metadata": {},
   "outputs": [
    {
     "data": {
      "text/html": [
       "<div>\n",
       "<style scoped>\n",
       "    .dataframe tbody tr th:only-of-type {\n",
       "        vertical-align: middle;\n",
       "    }\n",
       "\n",
       "    .dataframe tbody tr th {\n",
       "        vertical-align: top;\n",
       "    }\n",
       "\n",
       "    .dataframe thead th {\n",
       "        text-align: right;\n",
       "    }\n",
       "</style>\n",
       "<table border=\"1\" class=\"dataframe\">\n",
       "  <thead>\n",
       "    <tr style=\"text-align: right;\">\n",
       "      <th></th>\n",
       "      <th>sum_of_events</th>\n",
       "      <th>all_counts</th>\n",
       "      <th>average_feature</th>\n",
       "      <th>WoE</th>\n",
       "    </tr>\n",
       "    <tr>\n",
       "      <th>bucket</th>\n",
       "      <th></th>\n",
       "      <th></th>\n",
       "      <th></th>\n",
       "      <th></th>\n",
       "    </tr>\n",
       "  </thead>\n",
       "  <tbody>\n",
       "    <tr>\n",
       "      <th>0.0</th>\n",
       "      <td>17</td>\n",
       "      <td>184</td>\n",
       "      <td>19.396467</td>\n",
       "      <td>-1.246224</td>\n",
       "    </tr>\n",
       "    <tr>\n",
       "      <th>1.0</th>\n",
       "      <td>13</td>\n",
       "      <td>170</td>\n",
       "      <td>19.889118</td>\n",
       "      <td>-1.452740</td>\n",
       "    </tr>\n",
       "    <tr>\n",
       "      <th>2.0</th>\n",
       "      <td>10</td>\n",
       "      <td>172</td>\n",
       "      <td>20.329942</td>\n",
       "      <td>-1.746455</td>\n",
       "    </tr>\n",
       "    <tr>\n",
       "      <th>3.0</th>\n",
       "      <td>12</td>\n",
       "      <td>176</td>\n",
       "      <td>23.253409</td>\n",
       "      <td>-1.576403</td>\n",
       "    </tr>\n",
       "    <tr>\n",
       "      <th>4.0</th>\n",
       "      <td>36</td>\n",
       "      <td>172</td>\n",
       "      <td>28.572384</td>\n",
       "      <td>-0.290579</td>\n",
       "    </tr>\n",
       "    <tr>\n",
       "      <th>5.0</th>\n",
       "      <td>61</td>\n",
       "      <td>175</td>\n",
       "      <td>42.936857</td>\n",
       "      <td>0.413232</td>\n",
       "    </tr>\n",
       "    <tr>\n",
       "      <th>6.0</th>\n",
       "      <td>41</td>\n",
       "      <td>176</td>\n",
       "      <td>50.081818</td>\n",
       "      <td>-0.153146</td>\n",
       "    </tr>\n",
       "    <tr>\n",
       "      <th>7.0</th>\n",
       "      <td>32</td>\n",
       "      <td>174</td>\n",
       "      <td>55.901437</td>\n",
       "      <td>-0.451534</td>\n",
       "    </tr>\n",
       "  </tbody>\n",
       "</table>\n",
       "</div>"
      ],
      "text/plain": [
       "        sum_of_events  all_counts  average_feature       WoE\n",
       "bucket                                                      \n",
       "0.0                17         184        19.396467 -1.246224\n",
       "1.0                13         170        19.889118 -1.452740\n",
       "2.0                10         172        20.329942 -1.746455\n",
       "3.0                12         176        23.253409 -1.576403\n",
       "4.0                36         172        28.572384 -0.290579\n",
       "5.0                61         175        42.936857  0.413232\n",
       "6.0                41         176        50.081818 -0.153146\n",
       "7.0                32         174        55.901437 -0.451534"
      ]
     },
     "execution_count": 261,
     "metadata": {},
     "output_type": "execute_result"
    }
   ],
   "source": [
    "MonthlyCharges_woe.head(8)"
   ]
  },
  {
   "cell_type": "code",
   "execution_count": 262,
   "metadata": {},
   "outputs": [
    {
     "data": {
      "text/html": [
       "<div>\n",
       "<style scoped>\n",
       "    .dataframe tbody tr th:only-of-type {\n",
       "        vertical-align: middle;\n",
       "    }\n",
       "\n",
       "    .dataframe tbody tr th {\n",
       "        vertical-align: top;\n",
       "    }\n",
       "\n",
       "    .dataframe thead th {\n",
       "        text-align: right;\n",
       "    }\n",
       "</style>\n",
       "<table border=\"1\" class=\"dataframe\">\n",
       "  <thead>\n",
       "    <tr style=\"text-align: right;\">\n",
       "      <th></th>\n",
       "      <th>sum_of_events</th>\n",
       "      <th>all_counts</th>\n",
       "      <th>average_feature</th>\n",
       "      <th>WoE</th>\n",
       "    </tr>\n",
       "    <tr>\n",
       "      <th>bucket</th>\n",
       "      <th></th>\n",
       "      <th></th>\n",
       "      <th></th>\n",
       "      <th></th>\n",
       "    </tr>\n",
       "  </thead>\n",
       "  <tbody>\n",
       "    <tr>\n",
       "      <th>0.0</th>\n",
       "      <td>179</td>\n",
       "      <td>307</td>\n",
       "      <td>0.980456</td>\n",
       "      <td>1.373912</td>\n",
       "    </tr>\n",
       "    <tr>\n",
       "      <th>2.0</th>\n",
       "      <td>105</td>\n",
       "      <td>227</td>\n",
       "      <td>2.436123</td>\n",
       "      <td>0.888496</td>\n",
       "    </tr>\n",
       "    <tr>\n",
       "      <th>3.0</th>\n",
       "      <td>79</td>\n",
       "      <td>168</td>\n",
       "      <td>4.440476</td>\n",
       "      <td>0.919368</td>\n",
       "    </tr>\n",
       "    <tr>\n",
       "      <th>4.0</th>\n",
       "      <td>65</td>\n",
       "      <td>177</td>\n",
       "      <td>7.163842</td>\n",
       "      <td>0.494445</td>\n",
       "    </tr>\n",
       "    <tr>\n",
       "      <th>5.0</th>\n",
       "      <td>58</td>\n",
       "      <td>155</td>\n",
       "      <td>10.038710</td>\n",
       "      <td>0.524289</td>\n",
       "    </tr>\n",
       "    <tr>\n",
       "      <th>6.0</th>\n",
       "      <td>71</td>\n",
       "      <td>210</td>\n",
       "      <td>13.347619</td>\n",
       "      <td>0.366763</td>\n",
       "    </tr>\n",
       "    <tr>\n",
       "      <th>7.0</th>\n",
       "      <td>54</td>\n",
       "      <td>157</td>\n",
       "      <td>17.369427</td>\n",
       "      <td>0.392812</td>\n",
       "    </tr>\n",
       "    <tr>\n",
       "      <th>8.0</th>\n",
       "      <td>39</td>\n",
       "      <td>154</td>\n",
       "      <td>21.707792</td>\n",
       "      <td>-0.042814</td>\n",
       "    </tr>\n",
       "  </tbody>\n",
       "</table>\n",
       "</div>"
      ],
      "text/plain": [
       "        sum_of_events  all_counts  average_feature       WoE\n",
       "bucket                                                      \n",
       "0.0               179         307         0.980456  1.373912\n",
       "2.0               105         227         2.436123  0.888496\n",
       "3.0                79         168         4.440476  0.919368\n",
       "4.0                65         177         7.163842  0.494445\n",
       "5.0                58         155        10.038710  0.524289\n",
       "6.0                71         210        13.347619  0.366763\n",
       "7.0                54         157        17.369427  0.392812\n",
       "8.0                39         154        21.707792 -0.042814"
      ]
     },
     "execution_count": 262,
     "metadata": {},
     "output_type": "execute_result"
    }
   ],
   "source": [
    "tenure_woe.head(8)"
   ]
  },
  {
   "cell_type": "markdown",
   "metadata": {
    "id": "0Mcf6LkNxSYZ"
   },
   "source": [
    "Для обоих признаков значение WoE меняется на бакетах - переменные можно использовать для построения модели"
   ]
  },
  {
   "cell_type": "markdown",
   "metadata": {
    "id": "xITAeoyex6i7"
   },
   "source": [
    "Следующий этап проверки - проверка линейности. Строим графики зависимости признака от WoE "
   ]
  },
  {
   "cell_type": "code",
   "execution_count": 263,
   "metadata": {},
   "outputs": [],
   "source": [
    "def show_linear(data, feature_name):\n",
    "    plt.scatter(data.average_feature, data.WoE)\n",
    "    #простая регрессия для визуализации наличия линейной зависимости \n",
    "    m, b = np.polyfit(data.average_feature, data.WoE, 1)\n",
    "    plt.plot(data.average_feature, m* data.average_feature + b, 'g')\n",
    "    plt.xlabel(feature_name);\n",
    "    plt.ylabel('WoE');"
   ]
  },
  {
   "cell_type": "code",
   "execution_count": 264,
   "metadata": {},
   "outputs": [
    {
     "data": {
      "image/png": "[encoded data removed]",
      "text/plain": [
       "<Figure size 432x288 with 1 Axes>"
      ]
     },
     "metadata": {
      "needs_background": "light"
     },
     "output_type": "display_data"
    }
   ],
   "source": [
    "show_linear(MonthlyCharges_woe, 'MonthlyCharges')"
   ]
  },
  {
   "cell_type": "code",
   "execution_count": 265,
   "metadata": {},
   "outputs": [
    {
     "data": {
      "image/png": "[encoded data removed]",
      "text/plain": [
       "<Figure size 432x288 with 1 Axes>"
      ]
     },
     "metadata": {
      "needs_background": "light"
     },
     "output_type": "display_data"
    }
   ],
   "source": [
    "show_linear(tenure_woe, 'tenure')"
   ]
  },
  {
   "cell_type": "markdown",
   "metadata": {
    "id": "7-WmGxb2zqo7"
   },
   "source": [
    "Считаем, что линейная зависимость есть - оставляем эти признаки для построения модели"
   ]
  },
  {
   "cell_type": "markdown",
   "metadata": {
    "id": "o9eZq9qMzwJZ"
   },
   "source": [
    "## Категориальные/бинарные признаки"
   ]
  },
  {
   "cell_type": "markdown",
   "metadata": {
    "id": "y1qrRwo-2A2a"
   },
   "source": [
    "Для этих признаков будем считать Information value"
   ]
  },
  {
   "cell_type": "code",
   "execution_count": 266,
   "metadata": {
    "id": "dNSugTU82HBa"
   },
   "outputs": [],
   "source": [
    "bad_full = sum(train.Churn.values)\n",
    "good_full = len(train) - bad_full"
   ]
  },
  {
   "cell_type": "code",
   "execution_count": 267,
   "metadata": {
    "id": "2LE9j_Vf63gt"
   },
   "outputs": [],
   "source": [
    "def get_IV_for_features(data, bad_full, good_full, features_list):\n",
    "    for feature in features_list:\n",
    "        woe_data = woe_calculation(data,feature,'Churn')\n",
    "        IV = 0\n",
    "        for i in range(len(woe_data)):\n",
    "            bad_x = woe_data.sum_of_events.iloc[i]\n",
    "            good_x = woe_data.all_counts.iloc[i] - bad_x\n",
    "            woe_value = woe_data.WoE.iloc[i]\n",
    "            IV = IV + (((bad_x / bad_full) - (good_x / good_full)) *  woe_value)\n",
    "        print('IV for ' + feature + ':', IV)\n"
   ]
  },
  {
   "cell_type": "code",
   "execution_count": 268,
   "metadata": {
    "colab": {
     "base_uri": "https://localhost:8080/"
    },
    "id": "ZZlioBTS7YOk",
    "outputId": "0e7ace02-4946-48dc-f1a2-c925c5b83324"
   },
   "outputs": [
    {
     "name": "stdout",
     "output_type": "stream",
     "text": [
      "IV for gender: 1.5927141164032068e-05\n",
      "IV for Partner: 0.10708184640304966\n",
      "IV for MultipleLines_No: 0.005035302329831782\n",
      "IV for MultipleLines_No phone service: 0.0029652985477249087\n",
      "IV for MultipleLines_Yes: 0.008592709421458816\n",
      "IV for InternetService_DSL: 0.09209888428450302\n",
      "IV for InternetService_Fiber optic: 0.5853604613113684\n",
      "IV for InternetService_No: 0.5031990107102917\n",
      "IV for Contract_Month-to-month: 1.4366416027091533\n",
      "IV for Contract_One year: 0.24683231056294744\n",
      "IV for Contract_Two year: 1.1282873217856852\n",
      "IV for PaymentMethod_Bank transfer (automatic): 0.06336196763503592\n",
      "IV for PaymentMethod_Credit card (automatic): 0.1477561492452769\n",
      "IV for PaymentMethod_Electronic check: 0.43700655635639585\n",
      "IV for PaymentMethod_Mailed check: 0.05135690541141301\n"
     ]
    }
   ],
   "source": [
    "features_list = ['gender', 'Partner',\n",
    "                'MultipleLines_No', 'MultipleLines_No phone service','MultipleLines_Yes',\n",
    "                'InternetService_DSL', 'InternetService_Fiber optic', 'InternetService_No',\n",
    "                'Contract_Month-to-month', 'Contract_One year', 'Contract_Two year',\n",
    "                'PaymentMethod_Bank transfer (automatic)',\n",
    "                'PaymentMethod_Credit card (automatic)',\n",
    "                'PaymentMethod_Electronic check', 'PaymentMethod_Mailed check']\n",
    "\n",
    "get_IV_for_features(train, bad_full, good_full, features_list)"
   ]
  },
  {
   "cell_type": "markdown",
   "metadata": {
    "id": "JlyeGITASDG2"
   },
   "source": [
    "Ориентируемся на значения IV 0.1-0.5. Меньшие значения говорят о слабой связи между признаком и таргетом. Использование признаков с IV больше 0.5 может привести к ситуации, схожей с переобучением. "
   ]
  },
  {
   "cell_type": "markdown",
   "metadata": {
    "id": "hmultgbrSv4s"
   },
   "source": [
    "Таким образом, итоговый набор параметров для обучения выглядит следующим образом:\n",
    "* MonthlyCharges\n",
    "* tenure\n",
    "* Partner\n",
    "* InternetService\n",
    "* PaymentMethod"
   ]
  },
  {
   "cell_type": "markdown",
   "metadata": {
    "id": "pZsltsjx-X6E"
   },
   "source": [
    "## Модель логистической регрессии"
   ]
  },
  {
   "cell_type": "code",
   "execution_count": 269,
   "metadata": {
    "id": "8CmmuFQuQLfL"
   },
   "outputs": [],
   "source": [
    "from sklearn.linear_model import LogisticRegression\n",
    "from sklearn.preprocessing import StandardScaler\n",
    "from sklearn.pipeline import make_pipeline\n",
    "from sklearn.model_selection import GridSearchCV"
   ]
  },
  {
   "cell_type": "code",
   "execution_count": 270,
   "metadata": {
    "colab": {
     "base_uri": "https://localhost:8080/"
    },
    "id": "TNWrQoFAP4GS",
    "outputId": "0608272e-2f1d-48c6-c2c5-a12ed890a421"
   },
   "outputs": [
    {
     "data": {
      "text/plain": [
       "Pipeline(steps=[('standardscaler', StandardScaler()),\n",
       "                ('logisticregression', LogisticRegression())])"
      ]
     },
     "execution_count": 270,
     "metadata": {},
     "output_type": "execute_result"
    }
   ],
   "source": [
    "model = make_pipeline(StandardScaler(),LogisticRegression())\n",
    "\n",
    "features_names = ['Partner', 'tenure', 'MonthlyCharges',\n",
    "                'InternetService_DSL', 'InternetService_Fiber optic', 'InternetService_No',\n",
    "                'PaymentMethod_Bank transfer (automatic)',\n",
    "                'PaymentMethod_Credit card (automatic)',\n",
    "                'PaymentMethod_Electronic check', 'PaymentMethod_Mailed check']\n",
    "\n",
    "model.fit(np.array(train[features_names]),train['Churn'])"
   ]
  },
  {
   "cell_type": "markdown",
   "metadata": {
    "id": "1dpeobvmJ9mG"
   },
   "source": [
    "Посчитаем точность с помощью ROC и log_loss\n",
    "\n"
   ]
  },
  {
   "cell_type": "code",
   "execution_count": 271,
   "metadata": {
    "id": "Ni434kOaKaVO"
   },
   "outputs": [],
   "source": [
    "from sklearn.metrics import roc_auc_score, log_loss"
   ]
  },
  {
   "cell_type": "code",
   "execution_count": 272,
   "metadata": {},
   "outputs": [
    {
     "name": "stdout",
     "output_type": "stream",
     "text": [
      "roc_auc = 0.837\n",
      "log_loss = 0.423\n"
     ]
    }
   ],
   "source": [
    "print('roc_auc = %.3f' % roc_auc_score(train['Churn'], model.predict_proba(np.array(train[features_names]))[:,1]))\n",
    "print('log_loss = %.3f' % log_loss(train['Churn'],model.predict_proba(np.array(train[features_names]))[:,1]))"
   ]
  },
  {
   "cell_type": "markdown",
   "metadata": {
    "id": "-2a-xQSBKeP9"
   },
   "source": [
    "С этими признаками мы получили достаточно высокое значение площади под кривой (0.83) на трейне"
   ]
  },
  {
   "cell_type": "markdown",
   "metadata": {
    "id": "jsnqtHjI9bUW"
   },
   "source": [
    "### Точность модели на тестовом наборе данных"
   ]
  },
  {
   "cell_type": "code",
   "execution_count": 273,
   "metadata": {
    "id": "k65CsUY09fiG"
   },
   "outputs": [],
   "source": [
    "test = test.assign(\n",
    "                    tenure = test.tenure.clip(0, np.percentile(test.tenure, 99)),\n",
    "                    MonthlyCharges = test.MonthlyCharges.clip(0, np.percentile(test.MonthlyCharges, 99)),\n",
    "                  )\n"
   ]
  },
  {
   "cell_type": "code",
   "execution_count": 274,
   "metadata": {
    "id": "NYhVzZh--As1"
   },
   "outputs": [],
   "source": [
    "test = pd.get_dummies(test,prefix = ['MultipleLines','InternetService','Contract', 'PaymentMethod'],\n",
    "                    columns = ['MultipleLines','InternetService','Contract', 'PaymentMethod'])"
   ]
  },
  {
   "cell_type": "code",
   "execution_count": 275,
   "metadata": {
    "colab": {
     "base_uri": "https://localhost:8080/",
     "height": 330
    },
    "id": "J7Y2mM72955o",
    "outputId": "8c593be3-0d40-44c6-f439-6b4e98573e37"
   },
   "outputs": [
    {
     "data": {
      "text/html": [
       "<div>\n",
       "<style scoped>\n",
       "    .dataframe tbody tr th:only-of-type {\n",
       "        vertical-align: middle;\n",
       "    }\n",
       "\n",
       "    .dataframe tbody tr th {\n",
       "        vertical-align: top;\n",
       "    }\n",
       "\n",
       "    .dataframe thead th {\n",
       "        text-align: right;\n",
       "    }\n",
       "</style>\n",
       "<table border=\"1\" class=\"dataframe\">\n",
       "  <thead>\n",
       "    <tr style=\"text-align: right;\">\n",
       "      <th></th>\n",
       "      <th>customerID</th>\n",
       "      <th>gender</th>\n",
       "      <th>SeniorCitizen</th>\n",
       "      <th>Partner</th>\n",
       "      <th>Dependents</th>\n",
       "      <th>tenure</th>\n",
       "      <th>PhoneService</th>\n",
       "      <th>OnlineSecurity</th>\n",
       "      <th>OnlineBackup</th>\n",
       "      <th>DeviceProtection</th>\n",
       "      <th>...</th>\n",
       "      <th>InternetService_DSL</th>\n",
       "      <th>InternetService_Fiber optic</th>\n",
       "      <th>InternetService_No</th>\n",
       "      <th>Contract_Month-to-month</th>\n",
       "      <th>Contract_One year</th>\n",
       "      <th>Contract_Two year</th>\n",
       "      <th>PaymentMethod_Bank transfer (automatic)</th>\n",
       "      <th>PaymentMethod_Credit card (automatic)</th>\n",
       "      <th>PaymentMethod_Electronic check</th>\n",
       "      <th>PaymentMethod_Mailed check</th>\n",
       "    </tr>\n",
       "  </thead>\n",
       "  <tbody>\n",
       "    <tr>\n",
       "      <th>3500</th>\n",
       "      <td>5443-SCMKX</td>\n",
       "      <td>0</td>\n",
       "      <td>0</td>\n",
       "      <td>1</td>\n",
       "      <td>0</td>\n",
       "      <td>58</td>\n",
       "      <td>1</td>\n",
       "      <td>No</td>\n",
       "      <td>Yes</td>\n",
       "      <td>Yes</td>\n",
       "      <td>...</td>\n",
       "      <td>0</td>\n",
       "      <td>1</td>\n",
       "      <td>0</td>\n",
       "      <td>0</td>\n",
       "      <td>1</td>\n",
       "      <td>0</td>\n",
       "      <td>0</td>\n",
       "      <td>0</td>\n",
       "      <td>1</td>\n",
       "      <td>0</td>\n",
       "    </tr>\n",
       "    <tr>\n",
       "      <th>3501</th>\n",
       "      <td>8295-KMENE</td>\n",
       "      <td>0</td>\n",
       "      <td>0</td>\n",
       "      <td>1</td>\n",
       "      <td>1</td>\n",
       "      <td>59</td>\n",
       "      <td>1</td>\n",
       "      <td>Yes</td>\n",
       "      <td>No</td>\n",
       "      <td>Yes</td>\n",
       "      <td>...</td>\n",
       "      <td>1</td>\n",
       "      <td>0</td>\n",
       "      <td>0</td>\n",
       "      <td>0</td>\n",
       "      <td>0</td>\n",
       "      <td>1</td>\n",
       "      <td>0</td>\n",
       "      <td>0</td>\n",
       "      <td>0</td>\n",
       "      <td>1</td>\n",
       "    </tr>\n",
       "    <tr>\n",
       "      <th>3502</th>\n",
       "      <td>6738-ISCBM</td>\n",
       "      <td>1</td>\n",
       "      <td>0</td>\n",
       "      <td>0</td>\n",
       "      <td>0</td>\n",
       "      <td>44</td>\n",
       "      <td>0</td>\n",
       "      <td>Yes</td>\n",
       "      <td>No</td>\n",
       "      <td>Yes</td>\n",
       "      <td>...</td>\n",
       "      <td>1</td>\n",
       "      <td>0</td>\n",
       "      <td>0</td>\n",
       "      <td>0</td>\n",
       "      <td>1</td>\n",
       "      <td>0</td>\n",
       "      <td>0</td>\n",
       "      <td>0</td>\n",
       "      <td>1</td>\n",
       "      <td>0</td>\n",
       "    </tr>\n",
       "    <tr>\n",
       "      <th>3503</th>\n",
       "      <td>9821-BESNZ</td>\n",
       "      <td>1</td>\n",
       "      <td>0</td>\n",
       "      <td>0</td>\n",
       "      <td>0</td>\n",
       "      <td>66</td>\n",
       "      <td>1</td>\n",
       "      <td>No</td>\n",
       "      <td>Yes</td>\n",
       "      <td>No</td>\n",
       "      <td>...</td>\n",
       "      <td>0</td>\n",
       "      <td>1</td>\n",
       "      <td>0</td>\n",
       "      <td>0</td>\n",
       "      <td>1</td>\n",
       "      <td>0</td>\n",
       "      <td>0</td>\n",
       "      <td>0</td>\n",
       "      <td>1</td>\n",
       "      <td>0</td>\n",
       "    </tr>\n",
       "    <tr>\n",
       "      <th>3504</th>\n",
       "      <td>3678-MNGZX</td>\n",
       "      <td>1</td>\n",
       "      <td>0</td>\n",
       "      <td>1</td>\n",
       "      <td>1</td>\n",
       "      <td>68</td>\n",
       "      <td>1</td>\n",
       "      <td>No internet service</td>\n",
       "      <td>No internet service</td>\n",
       "      <td>No internet service</td>\n",
       "      <td>...</td>\n",
       "      <td>0</td>\n",
       "      <td>0</td>\n",
       "      <td>1</td>\n",
       "      <td>0</td>\n",
       "      <td>0</td>\n",
       "      <td>1</td>\n",
       "      <td>1</td>\n",
       "      <td>0</td>\n",
       "      <td>0</td>\n",
       "      <td>0</td>\n",
       "    </tr>\n",
       "  </tbody>\n",
       "</table>\n",
       "<p>5 rows × 30 columns</p>\n",
       "</div>"
      ],
      "text/plain": [
       "      customerID  gender  SeniorCitizen  Partner  Dependents  tenure  \\\n",
       "3500  5443-SCMKX       0              0        1           0      58   \n",
       "3501  8295-KMENE       0              0        1           1      59   \n",
       "3502  6738-ISCBM       1              0        0           0      44   \n",
       "3503  9821-BESNZ       1              0        0           0      66   \n",
       "3504  3678-MNGZX       1              0        1           1      68   \n",
       "\n",
       "      PhoneService       OnlineSecurity         OnlineBackup  \\\n",
       "3500             1                   No                  Yes   \n",
       "3501             1                  Yes                   No   \n",
       "3502             0                  Yes                   No   \n",
       "3503             1                   No                  Yes   \n",
       "3504             1  No internet service  No internet service   \n",
       "\n",
       "         DeviceProtection  ... InternetService_DSL  \\\n",
       "3500                  Yes  ...                   0   \n",
       "3501                  Yes  ...                   1   \n",
       "3502                  Yes  ...                   1   \n",
       "3503                   No  ...                   0   \n",
       "3504  No internet service  ...                   0   \n",
       "\n",
       "     InternetService_Fiber optic InternetService_No  Contract_Month-to-month  \\\n",
       "3500                           1                  0                        0   \n",
       "3501                           0                  0                        0   \n",
       "3502                           0                  0                        0   \n",
       "3503                           1                  0                        0   \n",
       "3504                           0                  1                        0   \n",
       "\n",
       "      Contract_One year Contract_Two year  \\\n",
       "3500                  1                 0   \n",
       "3501                  0                 1   \n",
       "3502                  1                 0   \n",
       "3503                  1                 0   \n",
       "3504                  0                 1   \n",
       "\n",
       "      PaymentMethod_Bank transfer (automatic)  \\\n",
       "3500                                        0   \n",
       "3501                                        0   \n",
       "3502                                        0   \n",
       "3503                                        0   \n",
       "3504                                        1   \n",
       "\n",
       "      PaymentMethod_Credit card (automatic)  PaymentMethod_Electronic check  \\\n",
       "3500                                      0                               1   \n",
       "3501                                      0                               0   \n",
       "3502                                      0                               1   \n",
       "3503                                      0                               1   \n",
       "3504                                      0                               0   \n",
       "\n",
       "      PaymentMethod_Mailed check  \n",
       "3500                           0  \n",
       "3501                           1  \n",
       "3502                           0  \n",
       "3503                           0  \n",
       "3504                           0  \n",
       "\n",
       "[5 rows x 30 columns]"
      ]
     },
     "execution_count": 275,
     "metadata": {},
     "output_type": "execute_result"
    }
   ],
   "source": [
    "test.head()"
   ]
  },
  {
   "cell_type": "code",
   "execution_count": 276,
   "metadata": {
    "colab": {
     "base_uri": "https://localhost:8080/",
     "height": 143
    },
    "id": "QOh4pkA79r-d",
    "outputId": "c990af3e-d528-4a5f-c409-deaa0d3267bc"
   },
   "outputs": [
    {
     "name": "stdout",
     "output_type": "stream",
     "text": [
      "roc_auc = 0.816\n",
      "log_loss = 0.451\n"
     ]
    }
   ],
   "source": [
    "print('roc_auc = %.3f' % roc_auc_score(test['Churn'], model.predict_proba(np.array(test[features_names]))[:,1]))\n",
    "print('log_loss = %.3f' % log_loss(test['Churn'],model.predict_proba(np.array(test[features_names]))[:,1]))"
   ]
  },
  {
   "cell_type": "markdown",
   "metadata": {
    "id": "8Y63fY7YUKmD"
   },
   "source": [
    "Для тестового набора значение roc_auc составило 0.81 - с выбранными признаками удалось построить модель высокой точности"
   ]
  }
 ],
 "metadata": {
  "colab": {
   "collapsed_sections": [],
   "name": "ДЗ Логистическая регрессия_РЕШЕНИЕ.ipynb",
   "provenance": []
  },
  "kernelspec": {
   "display_name": "Python 3",
   "language": "python",
   "name": "python3"
  },
  "language_info": {
   "codemirror_mode": {
    "name": "ipython",
    "version": 3
   },
   "file_extension": ".py",
   "mimetype": "text/x-python",
   "name": "python",
   "nbconvert_exporter": "python",
   "pygments_lexer": "ipython3",
   "version": "3.8.5"
  }
 },
 "nbformat": 4,
 "nbformat_minor": 1
}
